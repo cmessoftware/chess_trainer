version https://git-lfs.github.com/spec/v1
oid sha256:565b0030e97f88650f6c3ed0062143ed7502b22a0b7f33be4dc0d025b4b30780
size 33955
