version https://git-lfs.github.com/spec/v1
oid sha256:acfe702ee1c8d1c70cda378dd044b6a3d1ed933c62dd3c20fc096f3aeda7abab
size 1110
