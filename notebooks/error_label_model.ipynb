{
 "cells": [
  {
   "cell_type": "markdown",
   "id": "396a8580",
   "metadata": {},
   "source": [
    "# Modelo Supervisado para Predecir error_label\n",
    "Este notebook entrena un modelo de clasificación para predecir el tipo de error cometido en una jugada de ajedrez usando los features generados en `training_dataset.csv`."
   ]
  },
  {
   "cell_type": "code",
   "execution_count": null,
   "id": "718802c9",
   "metadata": {},
   "outputs": [],
   "source": [
    "import pandas as pd\n",
    "\n",
    "# Cargar el dataset\n",
    "df = pd.read_csv(\"training_dataset.csv\")\n",
    "\n",
    "# Inspección inicial\n",
    "print(df.shape)\n",
    "print(df.columns)\n",
    "print(df['error_label'].value_counts())\n",
    "df.head()\n"
   ]
  },
  {
   "cell_type": "code",
   "execution_count": null,
   "id": "766c63f4",
   "metadata": {},
   "outputs": [],
   "source": [
    "from sklearn.model_selection import train_test_split\n",
    "\n",
    "# Selección de features\n",
    "features = [\n",
    "    'score_diff', 'material_total', 'material_balance', 'num_pieces',\n",
    "    'branching_factor', 'self_mobility', 'opponent_mobility',\n",
    "    'phase', 'has_castling_rights', 'is_low_mobility', \n",
    "    'is_center_controlled', 'is_pawn_endgame'\n",
    "]\n",
    "\n",
    "X = df[features]\n",
    "y = df['error_label']\n",
    "\n",
    "# División de datos\n",
    "X_train, X_test, y_train, y_test = train_test_split(X, y, test_size=0.2, random_state=42)\n"
   ]
  },
  {
   "cell_type": "code",
   "execution_count": null,
   "id": "ec79c89f",
   "metadata": {},
   "outputs": [],
   "source": [
    "from sklearn.tree import DecisionTreeClassifier\n",
    "from sklearn.metrics import classification_report, confusion_matrix\n",
    "\n",
    "# Entrenamiento\n",
    "clf = DecisionTreeClassifier(max_depth=5, random_state=42)\n",
    "clf.fit(X_train, y_train)\n",
    "\n",
    "# Evaluación\n",
    "y_pred = clf.predict(X_test)\n",
    "print(confusion_matrix(y_test, y_pred))\n",
    "print(classification_report(y_test, y_pred))\n"
   ]
  },
  {
   "cell_type": "code",
   "execution_count": null,
   "id": "496d50cc",
   "metadata": {},
   "outputs": [],
   "source": [
    "import joblib\n",
    "\n",
    "# Guardar el modelo entrenado\n",
    "joblib.dump(clf, 'trained_error_label_model.pkl')\n"
   ]
  },
  {
   "cell_type": "markdown",
   "id": "d8390ca9",
   "metadata": {},
   "source": [
    "## Comparación con otros modelos (opcional)"
   ]
  },
  {
   "cell_type": "code",
   "execution_count": null,
   "id": "f11b4822",
   "metadata": {},
   "outputs": [],
   "source": [
    "from sklearn.ensemble import RandomForestClassifier\n",
    "from sklearn.linear_model import LogisticRegression\n",
    "from sklearn.model_selection import cross_val_score\n",
    "\n",
    "models = {\n",
    "    \"Decision Tree\": DecisionTreeClassifier(max_depth=5),\n",
    "    \"Random Forest\": RandomForestClassifier(n_estimators=100),\n",
    "    \"Logistic Regression\": LogisticRegression(max_iter=1000)\n",
    "}\n",
    "\n",
    "for name, model in models.items():\n",
    "    scores = cross_val_score(model, X, y, cv=5)\n",
    "    print(f\"{name} accuracy: {scores.mean():.4f}\")\n"
   ]
  }
 ],
 "metadata": {},
 "nbformat": 4,
 "nbformat_minor": 5
}
