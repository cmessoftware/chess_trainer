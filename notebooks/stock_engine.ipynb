{
 "cells": [
  {
   "cell_type": "code",
   "execution_count": 18,
   "id": "1b640803",
   "metadata": {},
   "outputs": [
    {
     "data": {
      "text/plain": [
       "'/app/notebooks/../src'"
      ]
     },
     "execution_count": 18,
     "metadata": {},
     "output_type": "execute_result"
    }
   ],
   "source": [
    "import sys\n",
    "import os\n",
    "src_path = \"../src\"\n",
    "notebook_dir = os.getcwd()\n",
    "src_full_path = os.path.join(notebook_dir, src_path)\n",
    "if src_full_path not in sys.path:\n",
    "    sys.path.insert(0, src_full_path)\n",
    "src_full_path "
   ]
  },
  {
   "cell_type": "code",
   "execution_count": 22,
   "id": "f6698a6b",
   "metadata": {},
   "outputs": [
    {
     "name": "stderr",
     "output_type": "stream",
     "text": [
      "Exception in callback Protocol.pipe_data_received(1, b'readyok\\n')\n",
      "handle: <Handle Protocol.pipe_data_received(1, b'readyok\\n')>\n",
      "Traceback (most recent call last):\n",
      "  File \"/usr/local/lib/python3.11/asyncio/events.py\", line 84, in _run\n",
      "    self._context.run(self._callback, *self._args)\n",
      "  File \"/usr/local/lib/python3.11/site-packages/chess/engine.py\", line 968, in pipe_data_received\n",
      "    self._line_received(line)\n",
      "  File \"/usr/local/lib/python3.11/site-packages/chess/engine.py\", line 981, in _line_received\n",
      "    self.command._line_received(line)\n",
      "  File \"/usr/local/lib/python3.11/site-packages/chess/engine.py\", line 1294, in _line_received\n",
      "    self.line_received(line)\n",
      "  File \"/usr/local/lib/python3.11/site-packages/chess/engine.py\", line 1740, in line_received\n",
      "    self._readyok()\n",
      "  File \"/usr/local/lib/python3.11/site-packages/chess/engine.py\", line 1746, in _readyok\n",
      "    self.engine._position(board)\n",
      "  File \"/usr/local/lib/python3.11/site-packages/chess/engine.py\", line 1509, in _position\n",
      "    uci_variant = type(board).uci_variant\n",
      "                  ^^^^^^^^^^^^^^^^^^^^^^^\n",
      "AttributeError: type object 'str' has no attribute 'uci_variant'\n"
     ]
    },
    {
     "name": "stdout",
     "output_type": "stream",
     "text": [
      "Stockfish engine started.\n"
     ]
    },
    {
     "ename": "KeyboardInterrupt",
     "evalue": "",
     "output_type": "error",
     "traceback": [
      "\u001b[31m---------------------------------------------------------------------------\u001b[39m",
      "\u001b[31mKeyboardInterrupt\u001b[39m                         Traceback (most recent call last)",
      "\u001b[36mCell\u001b[39m\u001b[36m \u001b[39m\u001b[32mIn[22]\u001b[39m\u001b[32m, line 6\u001b[39m\n\u001b[32m      3\u001b[39m stockfish = StockfishEngine()\n\u001b[32m      4\u001b[39m \u001b[38;5;28mprint\u001b[39m(\u001b[33m\"\u001b[39m\u001b[33mStockfish engine started.\u001b[39m\u001b[33m\"\u001b[39m)\n\u001b[32m----> \u001b[39m\u001b[32m6\u001b[39m score  = \u001b[43mstockfish\u001b[49m\u001b[43m.\u001b[49m\u001b[43mevaluate_position\u001b[49m\u001b[43m(\u001b[49m\u001b[33;43m\"\u001b[39;49m\u001b[33;43me2e4 e7e5 g1f3 b8c6 d2d4 e5d4 f3d4 c7c6\u001b[39;49m\u001b[33;43m\"\u001b[39;49m\u001b[43m)\u001b[49m\n\u001b[32m      7\u001b[39m \u001b[38;5;28mprint\u001b[39m(\u001b[33m\"\u001b[39m\u001b[33mScore: \u001b[39m\u001b[33m\"\u001b[39m, score)\n",
      "\u001b[36mFile \u001b[39m\u001b[32m/app/notebooks/../src/stockfish_engine.py:11\u001b[39m, in \u001b[36mStockfishEngine.evaluate_position\u001b[39m\u001b[34m(self, board)\u001b[39m\n\u001b[32m      9\u001b[39m \u001b[38;5;28;01mdef\u001b[39;00m\u001b[38;5;250m \u001b[39m\u001b[34mevaluate_position\u001b[39m(\u001b[38;5;28mself\u001b[39m, board):\n\u001b[32m     10\u001b[39m \u001b[38;5;250m    \u001b[39m\u001b[33;03m\"\"\"Evalúa una posición y retorna la puntuación en centipawns.\"\"\"\u001b[39;00m\n\u001b[32m---> \u001b[39m\u001b[32m11\u001b[39m     info = \u001b[38;5;28;43mself\u001b[39;49m\u001b[43m.\u001b[49m\u001b[43mengine\u001b[49m\u001b[43m.\u001b[49m\u001b[43manalyse\u001b[49m\u001b[43m(\u001b[49m\u001b[43mboard\u001b[49m\u001b[43m,\u001b[49m\u001b[43m \u001b[49m\u001b[43mchess\u001b[49m\u001b[43m.\u001b[49m\u001b[43mengine\u001b[49m\u001b[43m.\u001b[49m\u001b[43mLimit\u001b[49m\u001b[43m(\u001b[49m\u001b[43mdepth\u001b[49m\u001b[43m=\u001b[49m\u001b[38;5;28;43mself\u001b[39;49m\u001b[43m.\u001b[49m\u001b[43mdepth\u001b[49m\u001b[43m)\u001b[49m\u001b[43m)\u001b[49m\n\u001b[32m     12\u001b[39m     score = info[\u001b[33m\"\u001b[39m\u001b[33mscore\u001b[39m\u001b[33m\"\u001b[39m].relative.score(mate_score=\u001b[32m10000\u001b[39m)  \u001b[38;5;66;03m# Puntuación en centipawns\u001b[39;00m\n\u001b[32m     13\u001b[39m     \u001b[38;5;28;01mreturn\u001b[39;00m score\n",
      "\u001b[36mFile \u001b[39m\u001b[32m/usr/local/lib/python3.11/site-packages/chess/engine.py:2994\u001b[39m, in \u001b[36mSimpleEngine.analyse\u001b[39m\u001b[34m(self, board, limit, multipv, game, info, root_moves, options)\u001b[39m\n\u001b[32m   2990\u001b[39m     coro = asyncio.wait_for(\n\u001b[32m   2991\u001b[39m         \u001b[38;5;28mself\u001b[39m.protocol.analyse(board, limit, multipv=multipv, game=game, info=info, root_moves=root_moves, options=options),\n\u001b[32m   2992\u001b[39m         \u001b[38;5;28mself\u001b[39m._timeout_for(limit))\n\u001b[32m   2993\u001b[39m     future = asyncio.run_coroutine_threadsafe(coro, \u001b[38;5;28mself\u001b[39m.protocol.loop)\n\u001b[32m-> \u001b[39m\u001b[32m2994\u001b[39m \u001b[38;5;28;01mreturn\u001b[39;00m \u001b[43mfuture\u001b[49m\u001b[43m.\u001b[49m\u001b[43mresult\u001b[49m\u001b[43m(\u001b[49m\u001b[43m)\u001b[49m\n",
      "\u001b[36mFile \u001b[39m\u001b[32m/usr/local/lib/python3.11/concurrent/futures/_base.py:451\u001b[39m, in \u001b[36mFuture.result\u001b[39m\u001b[34m(self, timeout)\u001b[39m\n\u001b[32m    448\u001b[39m \u001b[38;5;28;01melif\u001b[39;00m \u001b[38;5;28mself\u001b[39m._state == FINISHED:\n\u001b[32m    449\u001b[39m     \u001b[38;5;28;01mreturn\u001b[39;00m \u001b[38;5;28mself\u001b[39m.__get_result()\n\u001b[32m--> \u001b[39m\u001b[32m451\u001b[39m \u001b[38;5;28;43mself\u001b[39;49m\u001b[43m.\u001b[49m\u001b[43m_condition\u001b[49m\u001b[43m.\u001b[49m\u001b[43mwait\u001b[49m\u001b[43m(\u001b[49m\u001b[43mtimeout\u001b[49m\u001b[43m)\u001b[49m\n\u001b[32m    453\u001b[39m \u001b[38;5;28;01mif\u001b[39;00m \u001b[38;5;28mself\u001b[39m._state \u001b[38;5;129;01min\u001b[39;00m [CANCELLED, CANCELLED_AND_NOTIFIED]:\n\u001b[32m    454\u001b[39m     \u001b[38;5;28;01mraise\u001b[39;00m CancelledError()\n",
      "\u001b[36mFile \u001b[39m\u001b[32m/usr/local/lib/python3.11/threading.py:327\u001b[39m, in \u001b[36mCondition.wait\u001b[39m\u001b[34m(self, timeout)\u001b[39m\n\u001b[32m    325\u001b[39m \u001b[38;5;28;01mtry\u001b[39;00m:    \u001b[38;5;66;03m# restore state no matter what (e.g., KeyboardInterrupt)\u001b[39;00m\n\u001b[32m    326\u001b[39m     \u001b[38;5;28;01mif\u001b[39;00m timeout \u001b[38;5;129;01mis\u001b[39;00m \u001b[38;5;28;01mNone\u001b[39;00m:\n\u001b[32m--> \u001b[39m\u001b[32m327\u001b[39m         \u001b[43mwaiter\u001b[49m\u001b[43m.\u001b[49m\u001b[43macquire\u001b[49m\u001b[43m(\u001b[49m\u001b[43m)\u001b[49m\n\u001b[32m    328\u001b[39m         gotit = \u001b[38;5;28;01mTrue\u001b[39;00m\n\u001b[32m    329\u001b[39m     \u001b[38;5;28;01melse\u001b[39;00m:\n",
      "\u001b[31mKeyboardInterrupt\u001b[39m: "
     ]
    }
   ],
   "source": [
    "from stockfish_engine import StockfishEngine\n",
    "\n",
    "stockfish = StockfishEngine()\n",
    "print(\"Stockfish engine started.\")\n",
    "\n",
    "score  = stockfish.evaluate_position(\"e2e4 e7e5 g1f3 b8c6 d2d4 e5d4 f3d4 c7c6\")\n",
    "print(\"Score: \", score)\n",
    "\n",
    "\n",
    "\n"
   ]
  }
 ],
 "metadata": {
  "kernelspec": {
   "display_name": "Python 3",
   "language": "python",
   "name": "python3"
  },
  "language_info": {
   "codemirror_mode": {
    "name": "ipython",
    "version": 3
   },
   "file_extension": ".py",
   "mimetype": "text/x-python",
   "name": "python",
   "nbconvert_exporter": "python",
   "pygments_lexer": "ipython3",
   "version": "3.11.12"
  }
 },
 "nbformat": 4,
 "nbformat_minor": 5
}
