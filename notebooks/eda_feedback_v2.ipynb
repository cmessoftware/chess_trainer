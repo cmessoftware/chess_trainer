{
 "cells": [
  {
   "cell_type": "markdown",
   "id": "9496329f",
   "metadata": {},
   "source": [
    "# 📊 Análisis EDA - training_dataset.csv"
   ]
  },
  {
   "cell_type": "markdown",
   "id": "7d8f39dc",
   "metadata": {},
   "source": [
    "## Prerequisito: Valido esquema antes de analizar"
   ]
  },
  {
   "cell_type": "code",
   "execution_count": null,
   "id": "d07e1f1b",
   "metadata": {},
   "outputs": [],
   "source": [
    "import pandas as pd\n",
    "import os\n",
    "from validators.validation_schema import validate_training_dataset\n",
    "import dotenv\n",
    "dotenv.load_dotenv()\n",
    "\n",
    "TRANING_DATA_PATH = os.getenv(\"TRAINING_DATA_PATH\")\n",
    "\n",
    "if not TRANING_DATA_PATH:\n",
    "    raise ValueError(\"La variable de entorno 'TRAINING_DATA_PATH' no está definida.\")\n",
    "\n",
    "if not os.path.exists(TRANING_DATA_PATH):\n",
    "    raise FileNotFoundError(f\"La ruta especificada '{TRANING_DATA_PATH}' no existe.\")\n",
    "\n",
    "# Cargar dataset\n",
    "df = pd.read_csv(TRANING_DATA_PATH)\n",
    "\n",
    "# Validar estructura y contenido\n",
    "df = validate_training_dataset(df)\n",
    "print(\"✅ Dataset validado correctamente con pandera.\")\n"
   ]
  },
  {
   "cell_type": "markdown",
   "id": "43969fc2",
   "metadata": {},
   "source": [
    "## Seleccionar partidas de un determinado jugador"
   ]
  },
  {
   "cell_type": "code",
   "execution_count": null,
   "id": "13e930b4",
   "metadata": {},
   "outputs": [],
   "source": [
    "import json\n",
    "from pgn_utils import load_all_games_from_dir, get_game_hash\n",
    "from tactical_analysis import detect_tactics_from_game\n",
    "\n",
    "for game in load_all_games_from_dir(folder):\n",
    "    game_hash = get_game_hash(game)\n",
    "    if game_hash in analyzed:\n",
    "        continue\n",
    "\n",
    "    print(f\"🔍 Analizando táctica: {game.headers.get('White', '?')} vs {game.headers.get('Black', '?')}\")\n",
    "\n",
    "    try:\n",
    "        tags = detect_tactics_from_game(game)\n",
    "        if tags:\n",
    "            with open(f\"{output_folder}/{game_hash}.json\", \"w\", encoding=\"utf-8\") as f:\n",
    "                json.dump(tags, f, ensure_ascii=False, indent=2)\n",
    "\n",
    "        # ✅ Guardamos sólo si no hubo excepción\n",
    "        save_analyzed_hash(game_hash)\n",
    "\n",
    "    except Exception as e:\n",
    "        print(f\"❌ Error al analizar partida {game_hash} - {game.headers.get('White', '?')} vs {game.headers.get('Black', '?')}: {e}\")"
   ]
  },
  {
   "cell_type": "code",
   "execution_count": null,
   "id": "ba5bafd9",
   "metadata": {},
   "outputs": [],
   "source": [
    "\n",
    "import pandas as pd\n",
    "import matplotlib.pyplot as plt\n",
    "import seaborn as sns\n",
    "\n",
    "# Cargar dataset\n",
    "df = pd.read_csv('training_dataset.csv')\n",
    "df.head()\n"
   ]
  },
  {
   "cell_type": "markdown",
   "id": "f22cca8b",
   "metadata": {},
   "source": [
    "## 1. Distribución de etiquetas de error"
   ]
  },
  {
   "cell_type": "code",
   "execution_count": null,
   "id": "1247d1ac",
   "metadata": {},
   "outputs": [],
   "source": [
    "\n",
    "df['error_label'].value_counts().plot(kind='bar', color='skyblue')\n",
    "plt.title(\"Distribución de etiquetas de error\")\n",
    "plt.xlabel(\"Etiqueta\")\n",
    "plt.ylabel(\"Cantidad\")\n",
    "plt.grid(True)\n",
    "plt.show()\n"
   ]
  },
  {
   "cell_type": "markdown",
   "id": "cc708b09",
   "metadata": {},
   "source": [
    "## 2. Correlaciones entre variables estratégicas y errores"
   ]
  },
  {
   "cell_type": "code",
   "execution_count": null,
   "id": "f2253f9d",
   "metadata": {},
   "outputs": [],
   "source": [
    "\n",
    "variables = ['branching_factor', 'self_mobility', 'opponent_mobility', 'material_total']\n",
    "correlation_matrix = df[variables + ['error_label']].corr(numeric_only=True)\n",
    "sns.heatmap(correlation_matrix, annot=True, cmap='coolwarm')\n",
    "plt.title(\"Matriz de correlación\")\n",
    "plt.show()\n"
   ]
  },
  {
   "cell_type": "markdown",
   "id": "e359db91",
   "metadata": {},
   "source": [
    "## 3. Análisis por control del centro vs errores"
   ]
  },
  {
   "cell_type": "code",
   "execution_count": null,
   "id": "248b1ba1",
   "metadata": {},
   "outputs": [],
   "source": [
    "\n",
    "pd.crosstab(df['is_center_controlled'], df['error_label']).plot(kind='bar', stacked=True)\n",
    "plt.title(\"Errores según control del centro\")\n",
    "plt.xlabel(\"¿Controla el centro?\")\n",
    "plt.ylabel(\"Cantidad\")\n",
    "plt.grid(True)\n",
    "plt.show()\n"
   ]
  },
  {
   "cell_type": "markdown",
   "id": "d90e7e73",
   "metadata": {},
   "source": [
    "## 4. Fase de juego vs tipo de error"
   ]
  },
  {
   "cell_type": "code",
   "execution_count": null,
   "id": "8223e4b8",
   "metadata": {},
   "outputs": [],
   "source": [
    "\n",
    "pd.crosstab(df['phase'], df['error_label']).plot(kind='bar', stacked=True)\n",
    "plt.title(\"Errores por fase de juego\")\n",
    "plt.xlabel(\"Fase\")\n",
    "plt.ylabel(\"Cantidad\")\n",
    "plt.grid(True)\n",
    "plt.show()\n"
   ]
  },
  {
   "cell_type": "markdown",
   "id": "61424bcd",
   "metadata": {},
   "source": [
    "## 5. Boxplot de movilidad vs error"
   ]
  },
  {
   "cell_type": "code",
   "execution_count": null,
   "id": "c342a9d8",
   "metadata": {},
   "outputs": [],
   "source": [
    "\n",
    "sns.boxplot(data=df, x='error_label', y='self_mobility')\n",
    "plt.title(\"Movilidad propia según tipo de error\")\n",
    "plt.grid(True)\n",
    "plt.show()\n"
   ]
  },
  {
   "cell_type": "markdown",
   "id": "4d7682c2",
   "metadata": {},
   "source": [
    "## 6. Error promedio en baja movilidad"
   ]
  },
  {
   "cell_type": "code",
   "execution_count": null,
   "id": "f9f80f30",
   "metadata": {},
   "outputs": [],
   "source": [
    "sns.barplot(data=df, x=\"is_low_mobility\", y=\"score_diff\", hue=\"classification\")\n",
    "plt.title(\"score_diff en posiciones con baja movilidad\")\n",
    "plt.tight_layout()\n",
    "plt.show()"
   ]
  },
  {
   "cell_type": "markdown",
   "id": "ea538698",
   "metadata": {},
   "source": [
    "## 7. Correlaciones numéricas"
   ]
  },
  {
   "cell_type": "code",
   "execution_count": null,
   "id": "7969e1bf",
   "metadata": {},
   "outputs": [],
   "source": [
    "corr = df.corr(numeric_only=True)\n",
    "sns.heatmap(corr, annot=True, cmap=\"coolwarm\")\n",
    "plt.title(\"Mapa de calor de correlaciones\")\n",
    "plt.tight_layout()\n",
    "plt.show()"
   ]
  },
  {
   "cell_type": "markdown",
   "id": "08b6e49f",
   "metadata": {},
   "source": [
    "## 8. Conclusiones preliminares"
   ]
  },
  {
   "cell_type": "markdown",
   "id": "78b0fe2c",
   "metadata": {},
   "source": [
    "- Las jugadas con baja movilidad muestran mayor score_diff promedio (peores resultados).\n",
    "- Existen correlaciones entre movilidad propia, balance de material y score_diff.\n",
    "- La distribución de errores es más frecuente en fases medias y finales con menos opciones legales."
   ]
  }
 ],
 "metadata": {
  "language_info": {
   "name": "python"
  }
 },
 "nbformat": 4,
 "nbformat_minor": 5
}
