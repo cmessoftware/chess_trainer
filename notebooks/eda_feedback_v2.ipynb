{
 "cells": [
  {
   "cell_type": "markdown",
   "id": "9496329f",
   "metadata": {},
   "source": [
    "# 📊 Análisis EDA - training_dataset.csv"
   ]
  },
  {
   "cell_type": "markdown",
   "id": "7d8f39dc",
   "metadata": {},
   "source": [
    "## Prerequisito: Valido esquema antes de analizar"
   ]
  },
  {
   "cell_type": "code",
   "execution_count": null,
   "id": "d07e1f1b",
   "metadata": {},
   "outputs": [],
   "source": [
    "import pandas as pd\n",
    "import os\n",
    "from validators.validation_schema import validate_training_dataset\n",
    "import dotenv\n",
    "dotenv.load_dotenv()\n",
    "\n",
    "TRANING_DATA_PATH = os.getenv(\"TRAINING_DATA_PATH\")\n",
    "\n",
    "if not TRANING_DATA_PATH:\n",
    "    raise ValueError(\"La variable de entorno 'TRAINING_DATA_PATH' no está definida.\")\n",
    "\n",
    "if not os.path.exists(TRANING_DATA_PATH):\n",
    "    raise FileNotFoundError(f\"La ruta especificada '{TRANING_DATA_PATH}' no existe.\")\n",
    "\n",
    "# Cargar dataset\n",
    "df = pd.read_csv(TRANING_DATA_PATH)\n",
    "\n",
    "# Validar estructura y contenido\n",
    "df = validate_training_dataset(df)\n",
    "print(\"✅ Dataset validado correctamente con pandera.\")\n"
   ]
  },
  {
   "cell_type": "markdown",
   "id": "43969fc2",
   "metadata": {},
   "source": [
    "## Seleccionar partidas de un determinado jugador"
   ]
  },
  {
   "cell_type": "code",
   "execution_count": null,
   "id": "ba5bafd9",
   "metadata": {},
   "outputs": [
    {
     "data": {
      "text/html": [
       "<div>\n",
       "<style scoped>\n",
       "    .dataframe tbody tr th:only-of-type {\n",
       "        vertical-align: middle;\n",
       "    }\n",
       "\n",
       "    .dataframe tbody tr th {\n",
       "        vertical-align: top;\n",
       "    }\n",
       "\n",
       "    .dataframe thead th {\n",
       "        text-align: right;\n",
       "    }\n",
       "</style>\n",
       "<table border=\"1\" class=\"dataframe\">\n",
       "  <thead>\n",
       "    <tr style=\"text-align: right;\">\n",
       "      <th></th>\n",
       "      <th>move_number</th>\n",
       "      <th>material_balance</th>\n",
       "      <th>material_total</th>\n",
       "      <th>num_pieces</th>\n",
       "      <th>branching_factor</th>\n",
       "      <th>self_mobility</th>\n",
       "      <th>opponent_mobility</th>\n",
       "      <th>player_color</th>\n",
       "      <th>has_castling_rights</th>\n",
       "      <th>move_number_global</th>\n",
       "      <th>is_repetition</th>\n",
       "      <th>is_low_mobility</th>\n",
       "      <th>tags</th>\n",
       "      <th>score_diff</th>\n",
       "    </tr>\n",
       "  </thead>\n",
       "  <tbody>\n",
       "    <tr>\n",
       "      <th>count</th>\n",
       "      <td>94.000000</td>\n",
       "      <td>94.000000</td>\n",
       "      <td>94.000000</td>\n",
       "      <td>94.000000</td>\n",
       "      <td>94.000000</td>\n",
       "      <td>94.000000</td>\n",
       "      <td>94.000000</td>\n",
       "      <td>94.000000</td>\n",
       "      <td>94.000000</td>\n",
       "      <td>94.000000</td>\n",
       "      <td>94.0</td>\n",
       "      <td>94.00000</td>\n",
       "      <td>0.0</td>\n",
       "      <td>0.0</td>\n",
       "    </tr>\n",
       "    <tr>\n",
       "      <th>mean</th>\n",
       "      <td>13.978723</td>\n",
       "      <td>-0.888298</td>\n",
       "      <td>71.771277</td>\n",
       "      <td>12.340426</td>\n",
       "      <td>63.968085</td>\n",
       "      <td>31.819149</td>\n",
       "      <td>32.148936</td>\n",
       "      <td>0.510638</td>\n",
       "      <td>0.585106</td>\n",
       "      <td>27.446809</td>\n",
       "      <td>0.0</td>\n",
       "      <td>0.06383</td>\n",
       "      <td>NaN</td>\n",
       "      <td>NaN</td>\n",
       "    </tr>\n",
       "    <tr>\n",
       "      <th>std</th>\n",
       "      <td>9.190901</td>\n",
       "      <td>1.806357</td>\n",
       "      <td>7.886089</td>\n",
       "      <td>1.920759</td>\n",
       "      <td>13.131635</td>\n",
       "      <td>10.240089</td>\n",
       "      <td>10.103717</td>\n",
       "      <td>0.502567</td>\n",
       "      <td>0.495346</td>\n",
       "      <td>18.376947</td>\n",
       "      <td>0.0</td>\n",
       "      <td>0.24576</td>\n",
       "      <td>NaN</td>\n",
       "      <td>NaN</td>\n",
       "    </tr>\n",
       "    <tr>\n",
       "      <th>min</th>\n",
       "      <td>1.000000</td>\n",
       "      <td>-9.250000</td>\n",
       "      <td>52.250000</td>\n",
       "      <td>8.000000</td>\n",
       "      <td>27.000000</td>\n",
       "      <td>3.000000</td>\n",
       "      <td>3.000000</td>\n",
       "      <td>0.000000</td>\n",
       "      <td>0.000000</td>\n",
       "      <td>1.000000</td>\n",
       "      <td>0.0</td>\n",
       "      <td>0.00000</td>\n",
       "      <td>NaN</td>\n",
       "      <td>NaN</td>\n",
       "    </tr>\n",
       "    <tr>\n",
       "      <th>25%</th>\n",
       "      <td>6.250000</td>\n",
       "      <td>-1.250000</td>\n",
       "      <td>66.500000</td>\n",
       "      <td>11.000000</td>\n",
       "      <td>59.000000</td>\n",
       "      <td>29.000000</td>\n",
       "      <td>30.000000</td>\n",
       "      <td>0.000000</td>\n",
       "      <td>0.000000</td>\n",
       "      <td>12.250000</td>\n",
       "      <td>0.0</td>\n",
       "      <td>0.00000</td>\n",
       "      <td>NaN</td>\n",
       "      <td>NaN</td>\n",
       "    </tr>\n",
       "    <tr>\n",
       "      <th>50%</th>\n",
       "      <td>12.000000</td>\n",
       "      <td>-0.500000</td>\n",
       "      <td>73.750000</td>\n",
       "      <td>13.000000</td>\n",
       "      <td>67.000000</td>\n",
       "      <td>33.000000</td>\n",
       "      <td>33.500000</td>\n",
       "      <td>1.000000</td>\n",
       "      <td>1.000000</td>\n",
       "      <td>24.000000</td>\n",
       "      <td>0.0</td>\n",
       "      <td>0.00000</td>\n",
       "      <td>NaN</td>\n",
       "      <td>NaN</td>\n",
       "    </tr>\n",
       "    <tr>\n",
       "      <th>75%</th>\n",
       "      <td>21.000000</td>\n",
       "      <td>0.000000</td>\n",
       "      <td>79.000000</td>\n",
       "      <td>14.000000</td>\n",
       "      <td>71.750000</td>\n",
       "      <td>37.000000</td>\n",
       "      <td>37.000000</td>\n",
       "      <td>1.000000</td>\n",
       "      <td>1.000000</td>\n",
       "      <td>41.750000</td>\n",
       "      <td>0.0</td>\n",
       "      <td>0.00000</td>\n",
       "      <td>NaN</td>\n",
       "      <td>NaN</td>\n",
       "    </tr>\n",
       "    <tr>\n",
       "      <th>max</th>\n",
       "      <td>33.000000</td>\n",
       "      <td>2.250000</td>\n",
       "      <td>79.000000</td>\n",
       "      <td>14.000000</td>\n",
       "      <td>95.000000</td>\n",
       "      <td>51.000000</td>\n",
       "      <td>51.000000</td>\n",
       "      <td>1.000000</td>\n",
       "      <td>1.000000</td>\n",
       "      <td>65.000000</td>\n",
       "      <td>0.0</td>\n",
       "      <td>1.00000</td>\n",
       "      <td>NaN</td>\n",
       "      <td>NaN</td>\n",
       "    </tr>\n",
       "  </tbody>\n",
       "</table>\n",
       "</div>"
      ],
      "text/plain": [
       "       move_number  material_balance  material_total  num_pieces  \\\n",
       "count    94.000000         94.000000       94.000000   94.000000   \n",
       "mean     13.978723         -0.888298       71.771277   12.340426   \n",
       "std       9.190901          1.806357        7.886089    1.920759   \n",
       "min       1.000000         -9.250000       52.250000    8.000000   \n",
       "25%       6.250000         -1.250000       66.500000   11.000000   \n",
       "50%      12.000000         -0.500000       73.750000   13.000000   \n",
       "75%      21.000000          0.000000       79.000000   14.000000   \n",
       "max      33.000000          2.250000       79.000000   14.000000   \n",
       "\n",
       "       branching_factor  self_mobility  opponent_mobility  player_color  \\\n",
       "count         94.000000      94.000000          94.000000     94.000000   \n",
       "mean          63.968085      31.819149          32.148936      0.510638   \n",
       "std           13.131635      10.240089          10.103717      0.502567   \n",
       "min           27.000000       3.000000           3.000000      0.000000   \n",
       "25%           59.000000      29.000000          30.000000      0.000000   \n",
       "50%           67.000000      33.000000          33.500000      1.000000   \n",
       "75%           71.750000      37.000000          37.000000      1.000000   \n",
       "max           95.000000      51.000000          51.000000      1.000000   \n",
       "\n",
       "       has_castling_rights  move_number_global  is_repetition  \\\n",
       "count            94.000000           94.000000           94.0   \n",
       "mean              0.585106           27.446809            0.0   \n",
       "std               0.495346           18.376947            0.0   \n",
       "min               0.000000            1.000000            0.0   \n",
       "25%               0.000000           12.250000            0.0   \n",
       "50%               1.000000           24.000000            0.0   \n",
       "75%               1.000000           41.750000            0.0   \n",
       "max               1.000000           65.000000            0.0   \n",
       "\n",
       "       is_low_mobility  tags  score_diff  \n",
       "count         94.00000   0.0         0.0  \n",
       "mean           0.06383   NaN         NaN  \n",
       "std            0.24576   NaN         NaN  \n",
       "min            0.00000   NaN         NaN  \n",
       "25%            0.00000   NaN         NaN  \n",
       "50%            0.00000   NaN         NaN  \n",
       "75%            0.00000   NaN         NaN  \n",
       "max            1.00000   NaN         NaN  "
      ]
     },
     "execution_count": 2,
     "metadata": {},
     "output_type": "execute_result"
    }
   ],
   "source": [
    "\n",
    "import pandas as pd\n",
    "import matplotlib.pyplot as plt\n",
    "import seaborn as sns\n",
    "\n",
    "# Cargar dataset\n",
    "df = pd.read_csv('/app/src/data/training_dataset.csv')\n",
    "#df.head()\n",
    "\n",
    "df.describe()\n"
   ]
  },
  {
   "cell_type": "markdown",
   "id": "f22cca8b",
   "metadata": {},
   "source": [
    "## 1. Distribución de etiquetas de error"
   ]
  },
  {
   "cell_type": "code",
   "execution_count": null,
   "id": "1247d1ac",
   "metadata": {},
   "outputs": [],
   "source": [
    "\n",
    "df['error_label'].value_counts().plot(kind='bar', color='skyblue')\n",
    "plt.title(\"Distribución de etiquetas de error\")\n",
    "plt.xlabel(\"Etiqueta\")\n",
    "plt.ylabel(\"Cantidad\")\n",
    "plt.grid(True)\n",
    "plt.show()\n"
   ]
  },
  {
   "cell_type": "markdown",
   "id": "cc708b09",
   "metadata": {},
   "source": [
    "## 2. Correlaciones entre variables estratégicas y errores"
   ]
  },
  {
   "cell_type": "code",
   "execution_count": null,
   "id": "f2253f9d",
   "metadata": {},
   "outputs": [],
   "source": [
    "\n",
    "variables = ['branching_factor', 'self_mobility', 'opponent_mobility', 'material_total']\n",
    "correlation_matrix = df[variables + ['error_label']].corr(numeric_only=True)\n",
    "sns.heatmap(correlation_matrix, annot=True, cmap='coolwarm')\n",
    "plt.title(\"Matriz de correlación\")\n",
    "plt.show()\n"
   ]
  },
  {
   "cell_type": "markdown",
   "id": "e359db91",
   "metadata": {},
   "source": [
    "## 3. Análisis por control del centro vs errores"
   ]
  },
  {
   "cell_type": "code",
   "execution_count": null,
   "id": "248b1ba1",
   "metadata": {},
   "outputs": [],
   "source": [
    "\n",
    "pd.crosstab(df['is_center_controlled'], df['error_label']).plot(kind='bar', stacked=True)\n",
    "plt.title(\"Errores según control del centro\")\n",
    "plt.xlabel(\"¿Controla el centro?\")\n",
    "plt.ylabel(\"Cantidad\")\n",
    "plt.grid(True)\n",
    "plt.show()\n"
   ]
  },
  {
   "cell_type": "markdown",
   "id": "d90e7e73",
   "metadata": {},
   "source": [
    "## 4. Fase de juego vs tipo de error"
   ]
  },
  {
   "cell_type": "code",
   "execution_count": null,
   "id": "8223e4b8",
   "metadata": {},
   "outputs": [],
   "source": [
    "\n",
    "pd.crosstab(df['phase'], df['error_label']).plot(kind='bar', stacked=True)\n",
    "plt.title(\"Errores por fase de juego\")\n",
    "plt.xlabel(\"Fase\")\n",
    "plt.ylabel(\"Cantidad\")\n",
    "plt.grid(True)\n",
    "plt.show()\n"
   ]
  },
  {
   "cell_type": "markdown",
   "id": "61424bcd",
   "metadata": {},
   "source": [
    "## 5. Boxplot de movilidad vs error"
   ]
  },
  {
   "cell_type": "code",
   "execution_count": null,
   "id": "c342a9d8",
   "metadata": {},
   "outputs": [],
   "source": [
    "\n",
    "sns.boxplot(data=df, x='error_label', y='self_mobility')\n",
    "plt.title(\"Movilidad propia según tipo de error\")\n",
    "plt.grid(True)\n",
    "plt.show()\n"
   ]
  },
  {
   "cell_type": "markdown",
   "id": "4d7682c2",
   "metadata": {},
   "source": [
    "## 6. Error promedio en baja movilidad"
   ]
  },
  {
   "cell_type": "code",
   "execution_count": null,
   "id": "f9f80f30",
   "metadata": {},
   "outputs": [],
   "source": [
    "sns.barplot(data=df, x=\"is_low_mobility\", y=\"score_diff\", hue=\"classification\")\n",
    "plt.title(\"score_diff en posiciones con baja movilidad\")\n",
    "plt.tight_layout()\n",
    "plt.show()"
   ]
  },
  {
   "cell_type": "markdown",
   "id": "ea538698",
   "metadata": {},
   "source": [
    "## 7. Correlaciones numéricas"
   ]
  },
  {
   "cell_type": "code",
   "execution_count": null,
   "id": "7969e1bf",
   "metadata": {},
   "outputs": [],
   "source": [
    "corr = df.corr(numeric_only=True)\n",
    "sns.heatmap(corr, annot=True, cmap=\"coolwarm\")\n",
    "plt.title(\"Mapa de calor de correlaciones\")\n",
    "plt.tight_layout()\n",
    "plt.show()"
   ]
  },
  {
   "cell_type": "markdown",
   "id": "08b6e49f",
   "metadata": {},
   "source": [
    "## 8. Conclusiones preliminares"
   ]
  },
  {
   "cell_type": "markdown",
   "id": "78b0fe2c",
   "metadata": {},
   "source": [
    "- Las jugadas con baja movilidad muestran mayor score_diff promedio (peores resultados).\n",
    "- Existen correlaciones entre movilidad propia, balance de material y score_diff.\n",
    "- La distribución de errores es más frecuente en fases medias y finales con menos opciones legales."
   ]
  }
 ],
 "metadata": {
  "kernelspec": {
   "display_name": "Python 3",
   "language": "python",
   "name": "python3"
  },
  "language_info": {
   "codemirror_mode": {
    "name": "ipython",
    "version": 3
   },
   "file_extension": ".py",
   "mimetype": "text/x-python",
   "name": "python",
   "nbconvert_exporter": "python",
   "pygments_lexer": "ipython3",
   "version": "3.11.12"
  }
 },
 "nbformat": 4,
 "nbformat_minor": 5
}
