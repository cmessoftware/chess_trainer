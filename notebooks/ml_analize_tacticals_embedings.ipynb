{
 "cells": [
  {
   "cell_type": "markdown",
   "id": "65d8089f",
   "metadata": {},
   "source": [
    "## 🧠 Objetivo\n",
    "\n",
    "Creamos una red que:\n",
    "\n",
    "Recibe como input una posición de ajedrez ya procesada como tensor de características (por ejemplo, un tensor 8x8xN con canales de piezas, movilidad, etc.).\n",
    "\n",
    "Usa una Embedding para representar la fase del juego: opening=0, middlegame=1, endgame=2.\n",
    "\n",
    "Usa ConditionalBatchNorm para que la normalización se adapte a la fase.\n",
    "\n",
    "Predice si la posición tiene táctica (tactical_opportunity = 1) o no (0).\n",
    "\n"
   ]
  },
  {
   "cell_type": "markdown",
   "id": "1f1c0dba",
   "metadata": {},
   "source": [
    "## 🎯 Keras\n",
    "\n",
    "Keras es una librería de alto nivel para construir redes neuronales. Sirve para crear, entrenar, evaluar y desplegar modelos de deep learning de manera sencilla, legible y eficiente.\n",
    "\n",
    "Hoy en día, Keras está integrada dentro de TensorFlow (como tf.keras), y se ha convertido en su interfaz principal para el desarrollo de modelos.\n",
    "\n",
    "🎯 ¿Para qué sirve Keras?\n",
    "Función\tDescripción breve\n",
    "🔧 Definir modelos\tPuedes crear redes neuronales secuenciales o más complejas con facilidad\n",
    "🧠 Entrenar modelos\tEntrena modelos con .fit() usando datasets, validaciones, callbacks, etc.\n",
    "📊 Evaluar rendimiento\tUsa .evaluate() para calcular precisión, pérdida, etc.\n",
    "🔍 Realizar predicciones\tAplica el modelo entrenado a nuevos datos con .predict()\n",
    "📦 Guardar/cargar modelos\tGuarda modelos entrenados con .save() y recargalos con .load_model()\n",
    "\n",
    "🏗️ Ejemplo simple con Keras\n",
    "python\n",
    "Copiar\n",
    "Editar\n",
    "import tensorflow as tf\n",
    "from tensorflow.keras import layers, models\n",
    "\n",
    "# 🧱 Crear el modelo\n",
    "model = models.Sequential([\n",
    "    layers.Dense(64, activation='relu', input_shape=(10,)),\n",
    "    layers.Dense(1, activation='sigmoid')\n",
    "])\n",
    "\n",
    "# ⚙️ Compilarlo\n",
    "model.compile(optimizer='adam', loss='binary_crossentropy', metrics=['accuracy'])\n",
    "\n",
    "# 🏃‍♂️ Entrenarlo con datos ficticios\n",
    "import numpy as np\n",
    "X = np.random.rand(100, 10)\n",
    "y = np.random.randint(0, 2, size=(100,))\n",
    "\n",
    "model.fit(X, y, epochs=5)\n",
    "✅ Ventajas de Keras\n",
    "Simplicidad: código limpio y expresivo\n",
    "\n",
    "Flexibilidad: permite modelos personalizados (subclasificando Model)\n",
    "\n",
    "Velocidad de prototipado: ideal para experimentar\n",
    "\n",
    "Compatible con producción: a través de TensorFlow y exportación a TFLite o TF Serving\n",
    "\n",
    "📚 ¿Qué podés construir con Keras?\n",
    "Clasificadores de imágenes (CNN)\n",
    "\n",
    "Modelos de texto (LSTM, Transformer)\n",
    "\n",
    "Redes GAN\n",
    "\n",
    "Autoencoders\n",
    "\n",
    "Modelos multientrada y multisalida\n",
    "\n",
    "Modelos para juegos, recomendaciones, ciencia de datos, etc.\n",
    "\n"
   ]
  },
  {
   "cell_type": "markdown",
   "id": "ff31c850",
   "metadata": {},
   "source": [
    "## 🧠Predicción de errores táticos usando red neuronal y Keras"
   ]
  },
  {
   "cell_type": "markdown",
   "id": "1b5f550d",
   "metadata": {},
   "source": [
    "Entrena un modelo de red neuronal para predecir errores tácticos en ajedrez usando Keras, combinando features posicionales con embeddings por fase del juego y nivel ELO. Se emplea ConditionalBatchNorm para adaptar dinámicamente la normalización según la fase (opening, middlegame, endgame)."
   ]
  },
  {
   "cell_type": "code",
   "execution_count": null,
   "id": "5acf573c",
   "metadata": {},
   "outputs": [
    {
     "name": "stderr",
     "output_type": "stream",
     "text": [
      "2025-06-16 07:14:31.557531: I external/local_tsl/tsl/cuda/cudart_stub.cc:31] Could not find cuda drivers on your machine, GPU will not be used.\n",
      "2025-06-16 07:14:31.837306: E external/local_xla/xla/stream_executor/cuda/cuda_dnn.cc:9261] Unable to register cuDNN factory: Attempting to register factory for plugin cuDNN when one has already been registered\n",
      "2025-06-16 07:14:31.837414: E external/local_xla/xla/stream_executor/cuda/cuda_fft.cc:607] Unable to register cuFFT factory: Attempting to register factory for plugin cuFFT when one has already been registered\n",
      "2025-06-16 07:14:31.890370: E external/local_xla/xla/stream_executor/cuda/cuda_blas.cc:1515] Unable to register cuBLAS factory: Attempting to register factory for plugin cuBLAS when one has already been registered\n",
      "2025-06-16 07:14:32.042820: I external/local_tsl/tsl/cuda/cudart_stub.cc:31] Could not find cuda drivers on your machine, GPU will not be used.\n",
      "2025-06-16 07:14:32.045176: I tensorflow/core/platform/cpu_feature_guard.cc:182] This TensorFlow binary is optimized to use available CPU instructions in performance-critical operations.\n",
      "To enable the following instructions: AVX2 FMA, in other operations, rebuild TensorFlow with the appropriate compiler flags.\n",
      "2025-06-16 07:14:33.483030: W tensorflow/compiler/tf2tensorrt/utils/py_utils.cc:38] TF-TRT Warning: Could not find TensorRT\n"
     ]
    },
    {
     "name": "stdout",
     "output_type": "stream",
     "text": [
      "✅ tensorflow.keras funciona correctamente\n"
     ]
    }
   ],
   "source": [
    "from tensorflow.keras import layers\n",
    "print(\"✅ tensorflow.keras funciona correctamente\")\n"
   ]
  },
  {
   "cell_type": "code",
   "execution_count": 5,
   "id": "9b3e5f0a",
   "metadata": {},
   "outputs": [],
   "source": [
    "# %pip install tensorflow\n",
    "\n",
    "# Cargando librerias necesarias\n",
    "import pandas as pd\n",
    "import numpy as np\n",
    "import tensorflow as tf\n",
    "from tensorflow.keras import layers\n",
    "from sklearn.preprocessing import LabelEncoder, StandardScaler\n",
    "from sklearn.model_selection import train_test_split\n",
    "from sklearn.metrics import classification_report, confusion_matrix\n",
    "import seaborn as sns\n",
    "import matplotlib.pyplot as plt\n"
   ]
  },
  {
   "cell_type": "code",
   "execution_count": 4,
   "id": "fbd96311",
   "metadata": {},
   "outputs": [
    {
     "name": "stdout",
     "output_type": "stream",
     "text": [
      "/usr/local/bin/python\n"
     ]
    }
   ],
   "source": [
    "#testeo de entrorno python\n",
    "\n",
    "import sys\n",
    "print(sys.executable)\n"
   ]
  },
  {
   "cell_type": "markdown",
   "id": "bacfb1fb",
   "metadata": {},
   "source": [
    "## 🧠  ConditionalBatchNorm "
   ]
  },
  {
   "cell_type": "markdown",
   "id": "28e80c7c",
   "metadata": {},
   "source": [
    "🧠 ¿Qué es ConditionalBatchNorm?\n",
    "Es una versión inteligente y adaptable de la capa BatchNormalization.\n",
    "\n",
    "Mientras que BatchNormalization normaliza igual para todos los datos, ConditionalBatchNorm cambia su comportamiento según una condición externa, como:\n",
    "\n",
    "la fase del juego (phase)\n",
    "\n",
    "el tipo de jugador (blitz, bullet, clásica)\n",
    "\n",
    "el estilo del modelo (Stockfish vs humano)\n",
    "\n",
    "📊 Analogía: entrenador personalizado\n",
    "Imaginá un gimnasio con varios entrenadores.\n",
    "Todos hacen calentar a sus alumnos con una rutina general.\n",
    "Pero después, cada entrenador personaliza los ejercicios según el tipo de alumno: principiante, intermedio, avanzado.\n",
    "\n",
    "📌 Eso hace ConditionalBatchNorm:\n",
    "normaliza el input como siempre, pero después ajusta con un γ y β específicos para cada “condición” (fase, estilo, nivel).\n",
    "\n"
   ]
  },
  {
   "cell_type": "markdown",
   "id": "e9988edd",
   "metadata": {},
   "source": [
    "## ⚙️ ¿Qué pasa matemáticamente?"
   ]
  },
  {
   "attachments": {
    "image-2.png": {
     "image/png": "[encoded data removed]"
    },
    "image.png": {
     "image/png": "[encoded data removed]"
    }
   },
   "cell_type": "markdown",
   "id": "7b3565fe",
   "metadata": {},
   "source": [
    "BatchNormalization común:\n",
    "\n",
    "![image.png](attachment:image.png)\n",
    "\n",
    "→ γ y β son fijos (se entrenan como pesos).\n",
    "\n",
    "ConditionalBatchNorm:\n",
    "\n",
    " ![image-2.png](attachment:image-2.png)\n",
    " \n",
    "→ γ y β dependen de la condición c_i (por ejemplo, phase=\"endgame\"), y se obtienen usando un Embedding."
   ]
  },
  {
   "cell_type": "code",
   "execution_count": null,
   "id": "2f063aad",
   "metadata": {},
   "outputs": [],
   "source": [
    "class ConditionalBatchNorm(layers.Layer):\n",
    "    def __init__(self, num_features, num_conditions):\n",
    "        super().__init__()\n",
    "        self.bn = layers.BatchNormalization(center=False, scale=False)\n",
    "        self.gamma = layers.Embedding(num_conditions, num_features)\n",
    "        self.beta = layers.Embedding(num_conditions, num_features)\n",
    "\n",
    "    def call(self, x, condition):\n",
    "        norm = self.bn(x)\n",
    "        gamma = self.gamma(condition)\n",
    "        beta = self.beta(condition)\n",
    "        return gamma * norm + beta\n"
   ]
  },
  {
   "cell_type": "markdown",
   "id": "d657183f",
   "metadata": {},
   "source": [
    "## 🔍 ¿Por qué usarlo?"
   ]
  },
  {
   "cell_type": "markdown",
   "id": "8a774136",
   "metadata": {},
   "source": [
    "## 🧠 Modelo personalizado"
   ]
  },
  {
   "cell_type": "markdown",
   "id": "7b6c1910",
   "metadata": {},
   "source": [
    "### ¿Porque no todas las fases del juego tienen las mismas estadísticas?:\n",
    "\n",
    "|Fase\t|Características comunes|\n",
    "|Apertura\t|Poco material movido, pocas amenazas|\n",
    "|Medio juego\t|Alta complejidad táctica, muchas piezas activas|\n",
    "|Final\t|Pocas piezas, movilidad reducida, amenazas sutiles|\n",
    "\n",
    "Entonces, aplicar la misma normalización a todas las fases puede mezclar peras con manzanas.\n",
    "\n",
    "ConditionalBatchNorm adapta los ajustes de escala y desplazamiento para cada contexto.\n",
    "\n"
   ]
  },
  {
   "cell_type": "code",
   "execution_count": null,
   "id": "2da5d931",
   "metadata": {},
   "outputs": [],
   "source": [
    "class TacticPhaseModel(tf.keras.Model):\n",
    "    def __init__(self, input_dim, num_phases, num_elo_bins, elo_embed_dim=4):\n",
    "        super().__init__()\n",
    "        self.elo_embedding = layers.Embedding(input_dim=num_elo_bins, output_dim=elo_embed_dim)\n",
    "        self.dense1 = layers.Dense(64)\n",
    "        self.bn = ConditionalBatchNorm(64, num_phases)\n",
    "        self.relu = layers.ReLU()\n",
    "        self.dense2 = layers.Dense(32, activation='relu')\n",
    "        self.output_layer = layers.Dense(1, activation='sigmoid')\n",
    "\n",
    "    def call(self, inputs):\n",
    "        x, phase_id, elo_id = inputs\n",
    "        elo_vec = self.elo_embedding(elo_id)\n",
    "        elo_vec = tf.reshape(elo_vec, [tf.shape(x)[0], -1])\n",
    "        x = tf.concat([x, elo_vec], axis=1)\n",
    "        x = self.dense1(x)\n",
    "        x = self.bn(x, phase_id)\n",
    "        x = self.relu(x)\n",
    "        x = self.dense2(x)\n",
    "        return self.output_layer(x)\n"
   ]
  },
  {
   "cell_type": "markdown",
   "id": "4e64b11a",
   "metadata": {},
   "source": [
    "## 🧠 Carga del dataset "
   ]
  },
  {
   "cell_type": "code",
   "execution_count": null,
   "id": "901b7ae9",
   "metadata": {},
   "outputs": [],
   "source": [
    "df = pd.read_parquet(\"training_dataset.parquet\")\n",
    "df = df.dropna(subset=[\"error_label\", \"phase\", \"player_color\", \"standardized_elo\"])\n",
    "df.head()"
   ]
  },
  {
   "cell_type": "markdown",
   "id": "6350d827",
   "metadata": {},
   "source": [
    "## 🧠 Preprocesamiento \n",
    "Limpieza y codificación de variables categóricas."
   ]
  },
  {
   "cell_type": "code",
   "execution_count": null,
   "id": "932608b2",
   "metadata": {},
   "outputs": [],
   "source": [
    "le_phase = LabelEncoder()\n",
    "df[\"phase_id\"] = le_phase.fit_transform(df[\"phase\"])\n",
    "\n",
    "le_color = LabelEncoder()\n",
    "df[\"color_id\"] = le_color.fit_transform(df[\"player_color\"])\n"
   ]
  },
  {
   "cell_type": "markdown",
   "id": "16e14327",
   "metadata": {},
   "source": [
    "## 🧠 Discreticacion de ELO Standarizado\n",
    "En una etapa anterior se standariza el elo Liches y el Chess.com para usar uno en común para todo el dataset.\n",
    "\n",
    "Los elo_bins son rangos de ELO discretizados que se usan para transformar el standardized_elo (que es un número continuo) en un índice entero que pueda ser usado como entrada de un Embedding.\n",
    "\n",
    "🎯 ¿Por qué discretizar ELO?\n",
    "Los modelos no pueden usar directamente un número como 1725.4 en un Embedding, porque el Embedding espera un índice entero. Entonces agrupamos los valores de ELO en intervalos o bins, como:\n",
    "\n",
    "```python\n",
    "elo_bins = [0, 1200, 1400, 1600, 1800, 2000, 2200, 2400, 3000]\n",
    "```\n",
    "Esto divide el rango de ELO en categorías:\n",
    "\n",
    "Bin ID\tRango de ELO\n",
    "| Bin ID | Rango de ELO      |\n",
    "|--------|-------------------|\n",
    "| 0      | [0, 1200)         |\n",
    "| 1      | [1200, 1400)      |\n",
    "| 2      | [1400, 1600)      |\n",
    "| 3      | [1600, 1800)      |\n",
    "| 4      | [1800, 2000)      |\n",
    "| 5      | [2000, 2200)      |\n",
    "| 6      | [2200, 2400)      |\n",
    "| 7      | [2400, 3000]      |\n",
    "\n",
    "Después se hace:\n",
    "\n",
    "```python\n",
    "df[\"elo_bin_id\"] = pd.cut(df[\"standardized_elo\"], bins=elo_bins, labels=False)\n",
    "```\n",
    "Eso transforma un standardized_elo = 1732 → elo_bin_id = 3\n",
    "\n",
    "📌 ¿Para qué lo usamos?\n",
    "\n",
    "El índice elo_bin_id se pasa a una capa Embedding, que convierte cada bin en un vector denso:\n",
    "\n",
    "```python\n",
    "Embedding(input_dim=8, output_dim=4)\n",
    "```\n",
    "→ Cada rango de ELO tiene su propia representación aprendible, lo que permite al modelo adaptarse al nivel del jugador."
   ]
  },
  {
   "cell_type": "code",
   "execution_count": null,
   "id": "75c5e019",
   "metadata": {},
   "outputs": [],
   "source": [
    "elo_bins = [0, 1200, 1400, 1600, 1800, 2000, 2200, 2400, 3000]\n",
    "df[\"elo_bin_id\"] = pd.cut(df[\"standardized_elo\"], bins=elo_bins, labels=False)\n",
    "df = df.dropna(subset=[\"elo_bin_id\"])\n",
    "df[\"elo_bin_id\"] = df[\"elo_bin_id\"].astype(int)\n"
   ]
  },
  {
   "cell_type": "markdown",
   "id": "1caa3534",
   "metadata": {},
   "source": [
    "✅ ¿Qué hace el código?\n",
    "Carga archivo .parquet.\n",
    "\n",
    "Usa pd.qcut(..., q=8) para dividir el ELO en 8 grupos con igual cantidad de muestras.\n",
    "\n",
    "Muestra una tabla como esta:\n",
    "\n",
    "| Bin ID | Count | Min  | Max  | Mean |\n",
    "|--------|-------|------|------|------|\n",
    "| 0      | 5000  | 600  | 1203 | 1020 |\n",
    "| 1      | 5000  | 1204 | 1350 | 1285 |\n",
    "| ...    | ...   | ...  | ...  | ...  |\n",
    "\n",
    "Esto te da bins más representativos de la distribución real de tu dataset."
   ]
  },
  {
   "cell_type": "markdown",
   "id": "508db072",
   "metadata": {},
   "source": [
    "## 🧠 Selección de features"
   ]
  },
  {
   "cell_type": "code",
   "execution_count": null,
   "id": "70c88d8b",
   "metadata": {},
   "outputs": [],
   "source": [
    "\n",
    "features = [\"branching_factor\", \"self_mobility\", \"opponent_mobility\",\n",
    "            \"is_low_mobility\", \"material_total\", \"num_pieces\",\n",
    "            \"has_castling_rights\", \"is_center_controlled\", \"is_pawn_endgame\",\n",
    "            \"is_repetition\", \"threatens_mate\", \"is_forced_move\",\n",
    "            \"is_tactical_sequence\", \"standardized_elo\", \"color_id\"]\n",
    "\n",
    "X = df[features]\n",
    "y = df[\"error_label\"]\n",
    "phase_ids = df[\"phase_id\"]\n",
    "elo_ids = df[\"elo_bin_id\"]\n",
    "\n",
    "\n",
    "X_train, X_test, y_train, y_test, phase_train, phase_test, elo_train, elo_test = train_test_split(\n",
    "    X_scaled, y, phase_ids, elo_ids, test_size=0.2, random_state=42\n",
    ")\n"
   ]
  },
  {
   "cell_type": "markdown",
   "id": "092d25c3",
   "metadata": {},
   "source": [
    "## 🧠 Escalado de datos"
   ]
  },
  {
   "cell_type": "code",
   "execution_count": null,
   "id": "c8b2d4f8",
   "metadata": {},
   "outputs": [],
   "source": [
    "scaler = StandardScaler()\n",
    "X_scaled = scaler.fit_transform(X)\n"
   ]
  },
  {
   "cell_type": "markdown",
   "id": "7ddc3b94",
   "metadata": {},
   "source": [
    "## 🧠 División train/test"
   ]
  },
  {
   "cell_type": "code",
   "execution_count": null,
   "id": "1e36e2e2",
   "metadata": {},
   "outputs": [],
   "source": [
    "X_train, X_test, y_train, y_test, phase_train, phase_test = train_test_split(\n",
    "    X_scaled, y, phase_ids, test_size=0.2, random_state=42\n",
    ")\n"
   ]
  },
  {
   "cell_type": "markdown",
   "id": "fa55935e",
   "metadata": {},
   "source": [
    "## 🧠 Definición del modelo con entrada condicional"
   ]
  },
  {
   "cell_type": "code",
   "execution_count": null,
   "id": "66a6aa36",
   "metadata": {},
   "outputs": [],
   "source": [
    "input_main = layers.Input(shape=(X_train.shape[1],), name=\"features_input\")\n",
    "input_phase = layers.Input(shape=(), dtype=tf.int32, name=\"phase_input\")\n",
    "\n",
    "x = layers.Dense(64)(input_main)\n",
    "x = ConditionalBatchNorm(64, num_conditions=len(le_phase.classes_))(x, input_phase)\n",
    "x = layers.ReLU()(x)\n",
    "x = layers.Dense(32, activation=\"relu\")(x)\n",
    "output = layers.Dense(1, activation=\"sigmoid\")(x)  # cambiar a softmax si hay múltiples clases\n",
    "\n",
    "model = Model(inputs=[input_main, input_phase], outputs=output)\n",
    "model.compile(optimizer='adam', loss='binary_crossentropy', metrics=['accuracy'])\n"
   ]
  },
  {
   "cell_type": "markdown",
   "id": "0a2ed120",
   "metadata": {},
   "source": [
    "## 🧠 Entrenar modelo"
   ]
  },
  {
   "cell_type": "code",
   "execution_count": null,
   "id": "1a879a4a",
   "metadata": {},
   "outputs": [],
   "source": [
    "model.fit(x={\"features_input\": X_train, \"phase_input\": phase_train},\n",
    "          y=y_train, batch_size=32, epochs=10,\n",
    "          validation_data=({\"features_input\": X_test, \"phase_input\": phase_test}, y_test))\n"
   ]
  },
  {
   "cell_type": "markdown",
   "id": "6574b258",
   "metadata": {},
   "source": [
    "## 🧠Evaluación"
   ]
  },
  {
   "cell_type": "code",
   "execution_count": null,
   "id": "2e8d9e6a",
   "metadata": {},
   "outputs": [],
   "source": [
    "y_pred = model.predict((X_test, phase_test, elo_test))\n",
    "y_pred_bin = (y_pred > 0.5).astype(int)\n",
    "print(classification_report(y_test, y_pred_bin))\n",
    "sns.heatmap(confusion_matrix(y_test, y_pred_bin), annot=True)\n",
    "plt.title(\"Matriz de confusión\")\n",
    "plt.show()"
   ]
  },
  {
   "cell_type": "markdown",
   "id": "2d17401b",
   "metadata": {},
   "source": [
    "✅ Aplicación para chess_trainer\n",
    "Cuando se hace:\n",
    "\n",
    "```python\n",
    "\n",
    "x = ConditionalBatchNorm(64, num_conditions=3)(x, phase_id)\n",
    "```\n",
    "Estás diciendo:\n",
    "\n",
    "\"Normalizar x, pero ajuste la escala y el sesgo final en función de si estoy en apertura, medio juego o final.\""
   ]
  }
 ],
 "metadata": {
  "kernelspec": {
   "display_name": "Python 3",
   "language": "python",
   "name": "python3"
  },
  "language_info": {
   "codemirror_mode": {
    "name": "ipython",
    "version": 3
   },
   "file_extension": ".py",
   "mimetype": "text/x-python",
   "name": "python",
   "nbconvert_exporter": "python",
   "pygments_lexer": "ipython3",
   "version": "3.11.13"
  }
 },
 "nbformat": 4,
 "nbformat_minor": 5
}
