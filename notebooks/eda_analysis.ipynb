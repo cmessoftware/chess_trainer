version https://git-lfs.github.com/spec/v1
oid sha256:c4b5e041c78144cf8ba37ad819862ef248dd8466e9f6e0a18acc52c23d3bc632
size 3079360
