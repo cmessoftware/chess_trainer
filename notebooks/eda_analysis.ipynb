{
 "cells": [
  {
   "cell_type": "markdown",
   "id": "7ca69409",
   "metadata": {},
   "source": [
    "# EDA Analysis - Chess Trainer\n",
    "Análisis exploratorio de datos con visualizaciones, agrupamientos y exportación a PDF."
   ]
  },
  {
   "cell_type": "markdown",
   "id": "9c6d3406",
   "metadata": {},
   "source": [
    "## Generar el dataset"
   ]
  },
  {
   "cell_type": "code",
   "execution_count": null,
   "id": "74b1c9fc",
   "metadata": {},
   "outputs": [
    {
     "name": "stdout",
     "output_type": "stream",
     "text": [
      "Fetching games for cmess4401 from chess.com...\n",
      "Found 0 games for cmess4401\n",
      "Fetching games for cmess1315 from chess.com...\n",
      "Found 0 games for cmess1315\n",
      "No games found for the specified users and date range.\n"
     ]
    }
   ],
   "source": [
    "# python generate_pgn_from_chees_servers.py --server chess.com --users cmess4401 cmess1315 --since 2023-01-01 --until 2025-05-30 \n",
    "\n",
    "import os\n",
    "import sys\n",
    "sys.path.append(os.path.abspath(os.path.join(os.getcwd(), '../src')))\n",
    "from modules.fetch_games import fetch_chesscom_games, fetch_lichess_games\n",
    "\n",
    "GAME_DIR = \"/app/src/data/games/\"\n",
    "server = \"chess.com\"  # or \"lichess.org\"\n",
    "users = [\"cmess4401\", \"cmess1315\"]  # Example users\n",
    "since = \"2023-01-01\"  # Start date in YYYY-MM-DD format\n",
    "until = \"2025-12-31\"  # End date in YYYY-MM-DD format\n",
    "\n",
    "def fetch_games(server,users, since, until):    \n",
    "    users = [\"cmess4401\", \"cmess1315\"]  \n",
    "    server = \"chess.com\"  # or \"lichess.org\"\n",
    "    all_games = []\n",
    "    for user in users:\n",
    "        print(f\"Fetching games for {user} from {server}...\")\n",
    "        if server == \"chess.com\":\n",
    "            games = fetch_chesscom_games(user, since, until)\n",
    "        else:\n",
    "            games = fetch_lichess_games(user, since, until)\n",
    "        print(f\"Found {len(games)} games for {user}\")\n",
    "        all_games.extend(games)\n",
    "        \n",
    "    if all_games is None or len(all_games) == 0:\n",
    "        print(f\"No games found for the specified users and date range.\")\n",
    "        return\n",
    "\n",
    "    if output is None:\n",
    "        output = f\"games_{server}_{since}_{until}.pgn\"\n",
    "        \n",
    "    game_path = os.path.join(GAME_DIR, output)\n",
    "    os.makedirs(GAME_DIR, exist_ok=True)\n",
    "\n",
    "    if games == None or len(games) == 0:\n",
    "        print(f\"No games found for the specified users and date range.\")\n",
    "        return\n",
    "\n",
    "    print(f\"Saving games to {game_path}...\")\n",
    "\n",
    "    with open(game_path, \"w\", encoding=\"utf-8\") as f:\n",
    "        for pgn in all_games:\n",
    "            f.write(pgn.strip() + \"\\n\\n\")\n",
    "    print(f\"Saved {len(all_games)} games to {output}\")\n",
    "\n",
    "fetch_games(server, users, since, until)"
   ]
  },
  {
   "cell_type": "code",
   "execution_count": null,
   "id": "2c0596ae",
   "metadata": {},
   "outputs": [],
   "source": [
    "import pandas as pd\n",
    "import eda_utils as eda\n",
    "import export_utils as ex"
   ]
  },
  {
   "cell_type": "code",
   "execution_count": null,
   "id": "b51b4b57",
   "metadata": {},
   "outputs": [],
   "source": [
    "df = pd.read_csv('training_dataset.csv')\n",
    "df.head()"
   ]
  },
  {
   "cell_type": "markdown",
   "id": "4a247728",
   "metadata": {},
   "source": [
    "## Correlación numérica"
   ]
  },
  {
   "cell_type": "code",
   "execution_count": null,
   "id": "f8e2eb0e",
   "metadata": {},
   "outputs": [],
   "source": [
    "eda.show_correlation_matrix(df)"
   ]
  },
  {
   "cell_type": "markdown",
   "id": "9454ff10",
   "metadata": {},
   "source": [
    "## Agrupamientos por categorías"
   ]
  },
  {
   "cell_type": "code",
   "execution_count": null,
   "id": "1552e057",
   "metadata": {},
   "outputs": [],
   "source": [
    "eda.group_summary(df)"
   ]
  },
  {
   "cell_type": "markdown",
   "id": "844a7e21",
   "metadata": {},
   "source": [
    "## Exportar resumen visual a PDF"
   ]
  },
  {
   "cell_type": "code",
   "execution_count": null,
   "id": "cf06f484",
   "metadata": {},
   "outputs": [],
   "source": [
    "ex.export_summary_to_pdf(df, filename='eda_chess_summary.pdf')"
   ]
  },
  {
   "cell_type": "markdown",
   "id": "131a2b00",
   "metadata": {},
   "source": [
    "## Análisis interactivo con D-Tale"
   ]
  },
  {
   "cell_type": "code",
   "execution_count": null,
   "id": "53f94c61",
   "metadata": {},
   "outputs": [],
   "source": [
    "eda.run_dtale(df)"
   ]
  }
 ],
 "metadata": {
  "kernelspec": {
   "display_name": "Python 3",
   "language": "python",
   "name": "python3"
  },
  "language_info": {
   "codemirror_mode": {
    "name": "ipython",
    "version": 3
   },
   "file_extension": ".py",
   "mimetype": "text/x-python",
   "name": "python",
   "nbconvert_exporter": "python",
   "pygments_lexer": "ipython3",
   "version": "3.11.12"
  }
 },
 "nbformat": 4,
 "nbformat_minor": 5
}
