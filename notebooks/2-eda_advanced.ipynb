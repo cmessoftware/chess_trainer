version https://git-lfs.github.com/spec/v1
oid sha256:1346591cadc83f8144dd0eed13b0462b533a4d06c82bd3be22884fd6169c900f
size 11596369
