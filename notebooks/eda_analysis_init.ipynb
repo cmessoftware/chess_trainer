{
 "cells": [
  {
   "cell_type": "markdown",
   "id": "b9f1f127",
   "metadata": {},
   "source": [
    "# Exploración de Datos - Chess Trainer"
   ]
  },
  {
   "cell_type": "code",
   "execution_count": null,
   "id": "0960927a",
   "metadata": {},
   "outputs": [],
   "source": [
    "# Generar dataset for testing purposes\n",
    "\n",
    "%python /app/src/scripts/generate_full_report.py --input /app/data/.pgn --output training_dataset.csv --analyze\n"
   ]
  },
  {
   "cell_type": "code",
   "execution_count": null,
   "id": "fc82a93f",
   "metadata": {},
   "outputs": [],
   "source": [
    "# Cargar dataset generado previamente\n",
    "import pandas as pd\n",
    "import matplotlib.pyplot as plt\n",
    "import seaborn as sns\n",
    "\n",
    "df = pd.read_csv('training_dataset.csv')\n",
    "df.head()"
   ]
  },
  {
   "cell_type": "code",
   "execution_count": 1,
   "id": "82fef6e1",
   "metadata": {
    "id": "82fef6e1"
   },
   "outputs": [],
   "source": [
    "# Importar módulos\n",
    "import pandas as pd\n",
    "import numpy as np\n",
    "import seaborn as sns\n",
    "import matplotlib.pyplot as plt\n",
    "from collections import Counter\n",
    "from math import log2\n",
    "from sklearn.preprocessing import PowerTransformer, LabelEncoder, MinMaxScaler, StandardScaler\n",
    "from scipy import stats\n",
    "from scipy.stats import chi2_contingency\n",
    "import warnings\n",
    "warnings.filterwarnings(\"ignore\")"
   ]
  },
  {
   "cell_type": "code",
   "execution_count": 2,
   "id": "270daa3e",
   "metadata": {
    "colab": {
     "base_uri": "https://localhost:8080/"
    },
    "id": "270daa3e",
    "outputId": "48184e2c-b220-4955-cdc5-6ea1e1fbcc7a"
   },
   "outputs": [
    {
     "name": "stdout",
     "output_type": "stream",
     "text": [
      "Outliers detectados: [100]\n"
     ]
    }
   ],
   "source": [
    "# Ejemplo simple\n",
    "data = pd.Series([10, 12, 13, 14, 15, 16, 17, 100])  # 100 es un outlier\n",
    "Q1 = data.quantile(0.25)\n",
    "Q3 = data.quantile(0.75)\n",
    "IQR = Q3 - Q1\n",
    "lower_bound = Q1 - 1.5 * IQR\n",
    "upper_bound = Q3 + 1.5 * IQR\n",
    "outliers = data[(data < lower_bound) | (data > upper_bound)]\n",
    "print(\"Outliers detectados:\", outliers.tolist())"
   ]
  },
  {
   "cell_type": "code",
   "execution_count": 6,
   "id": "3c97fd7a",
   "metadata": {
    "colab": {
     "base_uri": "https://localhost:8080/"
    },
    "id": "3c97fd7a",
    "outputId": "d6b0c5b6-a563-4a07-98c1-387fefba547f"
   },
   "outputs": [
    {
     "name": "stdout",
     "output_type": "stream",
     "text": [
      "Outliers detectados con Z-score: []\n"
     ]
    }
   ],
   "source": [
    "data = np.array([10, 12, 13, 14, 15, 16, 17, 100])\n",
    "z_scores = stats.zscore(data)\n",
    "outliers = data[np.abs(z_scores) > 3]\n",
    "print(\"Outliers detectados con Z-score:\", outliers.tolist())"
   ]
  },
  {
   "cell_type": "code",
   "execution_count": 7,
   "id": "57dc7700",
   "metadata": {
    "colab": {
     "base_uri": "https://localhost:8080/",
     "height": 434
    },
    "id": "57dc7700",
    "outputId": "3fa09d44-01d2-484d-f548-db40f9993940"
   },
   "outputs": [
    {
     "data": {
      "image/png": "[encoded data removed]",
      "text/plain": [
       "<Figure size 640x480 with 1 Axes>"
      ]
     },
     "metadata": {},
     "output_type": "display_data"
    }
   ],
   "source": [
    "sns.boxplot(data=data)\n",
    "plt.title(\"Boxplot para detección de outliers\")\n",
    "plt.show()"
   ]
  },
  {
   "cell_type": "code",
   "execution_count": 8,
   "id": "37d4d418",
   "metadata": {
    "colab": {
     "base_uri": "https://localhost:8080/",
     "height": 452
    },
    "id": "37d4d418",
    "outputId": "6eed1d07-2d5e-4c0b-b159-ba0d498ad7c2"
   },
   "outputs": [
    {
     "data": {
      "image/png": "[encoded data removed]",
      "text/plain": [
       "<Figure size 640x480 with 1 Axes>"
      ]
     },
     "metadata": {},
     "output_type": "display_data"
    }
   ],
   "source": [
    "plt.hist(data, bins=10)\n",
    "plt.title(\"Histograma de la variable\")\n",
    "plt.show()"
   ]
  },
  {
   "cell_type": "markdown",
   "id": "538f0f20",
   "metadata": {},
   "source": [
    "## Limpieza de Datos y Estadísticas Iniciales"
   ]
  },
  {
   "cell_type": "code",
   "execution_count": null,
   "id": "b15ff5ad",
   "metadata": {},
   "outputs": [],
   "source": [
    "# Verificar valores nulos y tipos de datos\n",
    "df.info()\n",
    "df.isnull().sum()"
   ]
  },
  {
   "cell_type": "markdown",
   "id": "18fae59a",
   "metadata": {},
   "source": [
    "## Visualización Inicial de Variables Relevantes"
   ]
  },
  {
   "cell_type": "code",
   "execution_count": null,
   "id": "8d0bbd6c",
   "metadata": {},
   "outputs": [],
   "source": [
    "# Distribución de etiquetas de error\n",
    "sns.countplot(data=df, x='error_label')\n",
    "plt.title('Distribución de error_label')\n",
    "plt.xticks(rotation=45)\n",
    "plt.show()"
   ]
  },
  {
   "cell_type": "code",
   "execution_count": null,
   "id": "25e14aef",
   "metadata": {},
   "outputs": [],
   "source": [
    "# Mapa de calor de correlación\n",
    "plt.figure(figsize=(12,8))\n",
    "sns.heatmap(df.select_dtypes(include='number').corr(), annot=True, fmt='.2f', cmap='coolwarm')\n",
    "plt.title('Matriz de Correlación')\n",
    "plt.show()"
   ]
  },
  {
   "cell_type": "code",
   "execution_count": null,
   "id": "0554057b",
   "metadata": {},
   "outputs": [],
   "source": [
    "# Comparar diferencia de score por tipo de error\n",
    "sns.boxplot(data=df, x='error_label', y='score_diff')\n",
    "plt.title('Score Diff por error_label')\n",
    "plt.xticks(rotation=45)\n",
    "plt.show()"
   ]
  },
  {
   "cell_type": "markdown",
   "id": "71a9663d",
   "metadata": {},
   "source": [
    "## Análisis por Apertura"
   ]
  },
  {
   "cell_type": "code",
   "execution_count": null,
   "id": "8cbaae4d",
   "metadata": {},
   "outputs": [],
   "source": [
    "# Top 10 aperturas con más errores\n",
    "df['opening'].value_counts().head(10).plot(kind='barh')\n",
    "plt.title('Top 10 Aperturas en el Dataset')\n",
    "plt.xlabel('Cantidad de ocurrencias')\n",
    "plt.gca().invert_yaxis()\n",
    "plt.show()"
   ]
  },
  {
   "cell_type": "markdown",
   "id": "4915e07e",
   "metadata": {},
   "source": [
    "## Distribución de Errores por Fase del Juego"
   ]
  },
  {
   "cell_type": "code",
   "execution_count": null,
   "id": "e5291168",
   "metadata": {},
   "outputs": [],
   "source": [
    "sns.countplot(data=df, x='move_phase', hue='error_label')\n",
    "plt.title('Errores por Fase del Juego')\n",
    "plt.xticks(rotation=0)\n",
    "plt.legend(title='Error')\n",
    "plt.show()"
   ]
  },
  {
   "cell_type": "markdown",
   "id": "b20b2fa0",
   "metadata": {},
   "source": [
    "## Análisis de Movilidad y Errores"
   ]
  },
  {
   "cell_type": "code",
   "execution_count": null,
   "id": "531945f1",
   "metadata": {},
   "outputs": [],
   "source": [
    "# Comparar score_diff en posiciones de baja movilidad propia\n",
    "sns.boxplot(data=df, x='is_low_mobility', y='score_diff')\n",
    "plt.title('Impacto de Baja Movilidad en Score')\n",
    "plt.xticks([0,1], ['No', 'Sí'])\n",
    "plt.show()"
   ]
  }
 ],
 "metadata": {
  "language_info": {
   "name": "python"
  }
 },
 "nbformat": 4,
 "nbformat_minor": 5
}
