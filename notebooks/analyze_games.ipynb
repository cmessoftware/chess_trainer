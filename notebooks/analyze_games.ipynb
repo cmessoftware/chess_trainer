{
 "cells": [
  {
   "cell_type": "code",
   "execution_count": null,
   "id": "febe149c",
   "metadata": {},
   "outputs": [],
   "source": [
    "import debugpy\n",
    "debugpy.listen(5678)\n",
    "print(\"Debug server started on port 5678. Attach the debugger in VS Code.\")"
   ]
  },
  {
   "cell_type": "code",
   "execution_count": 1,
   "id": "a14d1f5c",
   "metadata": {},
   "outputs": [],
   "source": [
    "import sys\n",
    "import os\n",
    "src_path = \"../src\"\n",
    "notebook_dir = os.getcwd()\n",
    "src_full_path = os.path.join(notebook_dir, src_path)\n",
    "if src_full_path not in sys.path:\n",
    "    sys.path.insert(0, src_full_path)\n",
    "src_full_path \n",
    "\n",
    "user = \"cmess1315\"\n",
    "user = [\"cmess1315\", \"cmess4401\"]"
   ]
  },
  {
   "cell_type": "code",
   "execution_count": 2,
   "id": "2215d292",
   "metadata": {},
   "outputs": [
    {
     "data": {
      "text/plain": [
       "'../data/games/cmess1315_chesscom_202505.pgn'"
      ]
     },
     "execution_count": 2,
     "metadata": {},
     "output_type": "execute_result"
    }
   ],
   "source": [
    "from fetch_games import GameFetcher\n",
    "\n",
    "fetcher = GameFetcher(\"../data/games\")\n",
    "user = \"cmess1315\"\n",
    "year = 2025\n",
    "month = 5\n",
    "games_path = fetcher.fetch_chesscom_games(user, year, month)\n",
    "games_path\n"
   ]
  },
  {
   "cell_type": "code",
   "execution_count": 3,
   "id": "cd1940d2",
   "metadata": {},
   "outputs": [
    {
     "name": "stdout",
     "output_type": "stream",
     "text": [
      "Ruta del archivo: ../data/games/game.pgn\n",
      "El archivo existe.\n",
      "Contenido de games: [<Game at 0x7f24083554d0 ('KSPilodiya' vs. 'cmess1315', '2025.05.21' at 'Chess.com')>]\n",
      "Tipo de games: <class 'list'>\n",
      "Tipo del primer elemento: <class 'chess.pgn.Game'>\n"
     ]
    },
    {
     "name": "stderr",
     "output_type": "stream",
     "text": [
      "Analyzing games:   0%|          | 0/1 [00:00<?, ?it/s]"
     ]
    },
    {
     "name": "stdout",
     "output_type": "stream",
     "text": [
      "Analizando partida: [Event \"Live Chess\"]\n",
      "[Site \"Chess.com\"]\n",
      "[Date \"2025.05.21\"]\n",
      "[Round \"-\"]\n",
      "[White \"KSPilodiya\"]\n",
      "[Black \"cmess1315\"]\n",
      "[Result \"1/2-1/2\"]\n",
      "[CurrentPosition \"8/1PK3pk/2Q5/4q3/8/8/8/8 w - - 78 117\"]\n",
      "[Timezone \"UTC\"]\n",
      "[ECO \"C02\"]\n",
      "[ECOUrl \"https://www.chess.com/openings/French-Defense-Advance-Paulsen-Main-Line-6...cxd4-7.cxd4\"]\n",
      "[UTCDate \"2025.05.21\"]\n",
      "[UTCTime \"04:35:55\"]\n",
      "[WhiteElo \"1360\"]\n",
      "[BlackElo \"1362\"]\n",
      "[TimeControl \"900+10\"]\n",
      "[Termination \"Game drawn by repetition\"]\n",
      "[StartTime \"04:35:55\"]\n",
      "[EndDate \"2025.05.21\"]\n",
      "[EndTime \"05:34:57\"]\n",
      "[Link \"https://www.chess.com/game/live/138689505934\"]\n",
      "\n",
      "1. e4 { [%clk 0:15:06.1] } 1... e6 { [%clk 0:15:08.4] } 2. Nf3 { [%clk 0:15:09.2] } 2... d5 { [%clk 0:15:16.4] } 3. e5 { [%clk 0:15:14.8] } 3... c5 { [%clk 0:15:24.9] } 4. c3 { [%clk 0:15:20.4] } 4... Nc6 { [%clk 0:15:33.5] } 5. d4 { [%clk 0:15:18] } 5... Qb6 { [%clk 0:15:41] } 6. a3 { [%clk 0:15:00.6] } 6... cxd4 { [%clk 0:15:47.7] } 7. cxd4 { [%clk 0:15:05] } 7... Bd7 { [%clk 0:15:54] } 8. Be2 { [%clk 0:15:09.3] } 8... Rc8 { [%clk 0:16:01.3] } 9. O-O { [%clk 0:15:15.5] } 9... Nge7 { [%clk 0:16:06.9] } 10. Nc3 { [%clk 0:15:13.8] } 10... Nf5 { [%clk 0:16:12.1] } 11. Na4 { [%clk 0:14:56.7] } 11... Qc7 { [%clk 0:16:19.6] } 12. Bb5 { [%clk 0:14:44.9] } 12... Nxe5 { [%clk 0:16:15.2] } 13. Bxd7+ { [%clk 0:14:49.1] } 13... Nxd7 { [%clk 0:16:23.7] } 14. Re1 { [%clk 0:14:40.4] } 14... Bd6 { [%clk 0:16:31.2] } 15. b4 { [%clk 0:14:12.1] } 15... O-O { [%clk 0:16:39] } 16. Qd3 { [%clk 0:14:04] } 16... Nf6 { [%clk 0:16:27.3] } 17. Bb2 { [%clk 0:13:26.4] } 17... Qe7 { [%clk 0:16:01.5] } 18. Ng5 { [%clk 0:13:15.4] } 18... h6 { [%clk 0:15:32.4] } 19. Nf3 { [%clk 0:12:21.5] } 19... Ne4 { [%clk 0:15:17.4] } 20. Rxe4 { [%clk 0:11:59] } 20... dxe4 { [%clk 0:15:20.7] } 21. Qxe4 { [%clk 0:12:02.9] } 21... b5 { [%clk 0:15:14.4] } 22. Nc3 { [%clk 0:12:02.5] } 22... a6 { [%clk 0:15:19] } 23. d5 { [%clk 0:11:47.8] } 23... Rc4 { [%clk 0:15:07.4] } 24. Qd3 { [%clk 0:11:32.5] } 24... Rfc8 { [%clk 0:14:52.4] } 25. Re1 { [%clk 0:11:27.5] } 25... Qf6 { [%clk 0:14:50.7] } 26. dxe6 { [%clk 0:11:24.9] } 26... fxe6 { [%clk 0:14:55.6] } 27. Ne4 { [%clk 0:11:10.7] } 27... Qxb2 { [%clk 0:14:44.9] } 28. Nxd6 { [%clk 0:11:08.7] } 28... Nxd6 { [%clk 0:14:15.6] } 29. Qxd6 { [%clk 0:11:13.7] } 29... Rc2 { [%clk 0:13:58.9] } 30. Qxe6+ { [%clk 0:11:05.7] } 30... Kh8 { [%clk 0:14:06.8] } 31. Rf1 { [%clk 0:10:54.7] } 31... Rf8 { [%clk 0:13:57.8] } 32. Qxa6 { [%clk 0:10:25.2] } 32... Rc3 { [%clk 0:13:45.1] } 33. Qd6 { [%clk 0:09:54.2] } 33... Rcxf3 { [%clk 0:13:38] } 34. gxf3 { [%clk 0:09:59.1] } 34... Rxf3 { [%clk 0:13:39.9] } 35. Qd8+ { [%clk 0:09:24.4] } 35... Kh7 { [%clk 0:13:46.7] } 36. Kg2 { [%clk 0:09:01.1] } 36... Rf6 { [%clk 0:13:51.6] } 37. Qd3+ { [%clk 0:08:39.8] } 37... Rg6+ { [%clk 0:13:55.9] } 38. Kh1 { [%clk 0:08:36.1] } 38... Qf6 { [%clk 0:13:54.1] } 39. f3 { [%clk 0:08:25.2] } 39... Qc6 { [%clk 0:13:53.5] } 40. Rg1 { [%clk 0:08:22] } 40... h5 { [%clk 0:13:31] } 41. Rxg6 { [%clk 0:08:22.1] } 41... Qxg6 { [%clk 0:13:36.7] } 42. Qxb5 { [%clk 0:08:23.6] } 42... Qb1+ { [%clk 0:13:35.7] } 43. Kg2 { [%clk 0:08:27.8] } 43... Qb2+ { [%clk 0:13:41.7] } 44. Kg3 { [%clk 0:08:25.3] } 44... Qxa3 { [%clk 0:13:39.8] } 45. Qxh5+ { [%clk 0:08:32.4] } 45... Kg8 { [%clk 0:13:48] } 46. Qe8+ { [%clk 0:08:26.6] } 46... Kh7 { [%clk 0:13:56.2] } 47. b5 { [%clk 0:08:32.4] } 47... Qd6+ { [%clk 0:13:59.5] } 48. Kg2 { [%clk 0:08:22.5] } 48... Qd2+ { [%clk 0:14:04.4] } 49. Kg3 { [%clk 0:08:24.2] } 49... Qd6+ { [%clk 0:14:08.2] } 50. f4 { [%clk 0:08:12.9] } 50... Qd3+ { [%clk 0:14:09] } 51. Kf2 { [%clk 0:07:50.9] } 51... Qd2+ { [%clk 0:13:55.9] } 52. Kf3 { [%clk 0:07:47.7] } 52... Qxh2 { [%clk 0:13:50.2] } 53. Qc6 { [%clk 0:07:12.6] } 53... Qh3+ { [%clk 0:13:47.1] } 54. Ke4 { [%clk 0:07:12.7] } 54... Qg2+ { [%clk 0:13:53.7] } 55. Kd4 { [%clk 0:07:08.3] } 55... Qd2+ { [%clk 0:13:53.4] } 56. Ke5 { [%clk 0:07:11.8] } 56... Qb2+ { [%clk 0:13:49.2] } 57. Ke4 { [%clk 0:06:49.5] } 57... Qe2+ { [%clk 0:13:48.9] } 58. Kf5 { [%clk 0:06:37] } 58... Qd3+ { [%clk 0:13:37.9] } 59. Kg4 { [%clk 0:06:29.6] } 59... Qe2+ { [%clk 0:13:39.6] } 60. Kf5 { [%clk 0:06:19.7] } 60... Qd3+ { [%clk 0:13:41.2] } 61. Ke5 { [%clk 0:06:26.8] } 61... Qd8 { [%clk 0:12:56.7] } 62. b6 { [%clk 0:06:26.4] } 62... Qe7+ { [%clk 0:12:58.7] } 63. Kd5 { [%clk 0:06:16.4] } 63... Qf7+ { [%clk 0:12:57.1] } 64. Kc5 { [%clk 0:06:00.5] } 64... Qe7+ { [%clk 0:12:45.1] } 65. Kb5 { [%clk 0:05:51.6] } 65... Qe2+ { [%clk 0:12:45.7] } 66. Qc4 { [%clk 0:05:45] } 66... Qe8+ { [%clk 0:12:40.8] } 67. Kc5 { [%clk 0:05:07.8] } 67... Qc8+ { [%clk 0:12:17] } 68. Kd5 { [%clk 0:04:58.4] } 68... Qb7+ { [%clk 0:12:17.2] } 69. Qc6 { [%clk 0:05:03.2] } 69... Qf7+ { [%clk 0:12:23.7] } 70. Ke5 { [%clk 0:04:44.8] } 70... Qe7+ { [%clk 0:12:21] } 71. Kf5 { [%clk 0:04:16.4] } 71... Qf7+ { [%clk 0:12:15] } 72. Kg4 { [%clk 0:04:12.2] } 72... Qb3 { [%clk 0:11:52.3] } 73. b7 { [%clk 0:04:02.6] } 73... Qd1+ { [%clk 0:11:59.3] } 74. Kf5 { [%clk 0:04:03.4] } 74... Qh5+ { [%clk 0:11:54.3] } 75. Ke6 { [%clk 0:03:59.4] } 75... Qg6+ { [%clk 0:11:45.1] } 76. Kd7 { [%clk 0:04:01] } 76... Qf5+ { [%clk 0:11:45.4] } 77. Kd8 { [%clk 0:03:27.8] } 77... Qxf4 { [%clk 0:11:16.1] } 78. Kc8 { [%clk 0:03:25.4] } 78... Qf5+ { [%clk 0:11:10.6] } 79. Kc7 { [%clk 0:03:18.2] } 79... Qe5+ { [%clk 0:11:10.8] } 80. Qd6 { [%clk 0:03:17.1] } 80... Qa5+ { [%clk 0:11:12.2] } 81. Kc8 { [%clk 0:03:05.3] } 81... Qc3+ { [%clk 0:11:00.7] } 82. Kd8 { [%clk 0:02:48.7] } 82... Qa5+ { [%clk 0:11:02.6] } 83. Kd7 { [%clk 0:02:18.4] } 83... Qb5+ { [%clk 0:10:59.1] } 84. Qc6 { [%clk 0:02:22] } 84... Qf5+ { [%clk 0:10:55.3] } 85. Kc7 { [%clk 0:02:22] } 85... Qe5+ { [%clk 0:10:53.1] } 86. Qd6 { [%clk 0:02:09.3] } 86... Qa5+ { [%clk 0:10:37] } 87. Kc8 { [%clk 0:02:11.5] } 87... Qc3+ { [%clk 0:10:41.6] } 88. Kb8 { [%clk 0:01:38.4] } 88... Qa5 { [%clk 0:10:17.1] } 89. Qc7 { [%clk 0:01:27.4] } 89... Qa6 { [%clk 0:09:48] } 90. Kc8 { [%clk 0:01:27.1] } 90... Qe6+ { [%clk 0:09:48.8] } 91. Kd8 { [%clk 0:01:28.6] } 91... Qf6+ { [%clk 0:09:42] } 92. Ke8 { [%clk 0:01:16] } 92... Qg6+ { [%clk 0:09:40.7] } 93. Kd7 { [%clk 0:01:08.4] } 93... Qf5+ { [%clk 0:09:33.2] } 94. Kc6 { [%clk 0:01:15.9] } 94... Qf6+ { [%clk 0:09:33.7] } 95. Kc5 { [%clk 0:01:20.3] } 95... Qc3+ { [%clk 0:09:30.5] } 96. Kb6 { [%clk 0:01:23.9] } 96... Qd4+ { [%clk 0:09:33.6] } 97. Qc5 { [%clk 0:01:28.8] } 97... Qb2+ { [%clk 0:09:26] } 98. Kc7 { [%clk 0:01:33.1] } 98... Qh2+ { [%clk 0:09:26.4] } 99. Kb6 { [%clk 0:01:39.6] } 99... Qb2+ { [%clk 0:09:30.8] } 100. Kc6 { [%clk 0:01:47.6] } 100... Qg2+ { [%clk 0:09:34] } 101. Qd5 { [%clk 0:01:52.2] } 101... Qc2+ { [%clk 0:09:30.7] } 102. Kd7 { [%clk 0:01:56.7] } 102... Qa4+ { [%clk 0:09:27.2] } 103. Ke6 { [%clk 0:01:52.7] } 103... Qa6+ { [%clk 0:09:14.1] } 104. Ke5 { [%clk 0:01:51.5] } 104... Qf6+ { [%clk 0:09:07.5] } 105. Ke4 { [%clk 0:01:56.1] } 105... Qh4+ { [%clk 0:09:12.4] } 106. Ke3 { [%clk 0:01:47.8] } 106... Qg3+ { [%clk 0:09:09.5] } 107. Ke2 { [%clk 0:01:40.9] } 107... Qg4+ { [%clk 0:09:09.6] } 108. Kd3 { [%clk 0:01:40.9] } 108... Qg3+ { [%clk 0:09:05.7] } 109. Kc4 { [%clk 0:01:44.3] } 109... Qg4+ { [%clk 0:08:57.9] } 110. Kb5 { [%clk 0:01:34.4] } 110... Qe2+ { [%clk 0:09:01.8] } 111. Ka5 { [%clk 0:01:29.2] } 111... Qe1+ { [%clk 0:09:02.3] } 112. Ka6 { [%clk 0:01:27.4] } 112... Qa1+ { [%clk 0:09:03.5] } 113. Kb6 { [%clk 0:01:30] } 113... Qg1+ { [%clk 0:09:01.9] } 114. Kc7 { [%clk 0:01:35.5] } 114... Qg3+ { [%clk 0:09:03.6] } 115. Qd6 { [%clk 0:01:40.5] } 115... Qc3+ { [%clk 0:09:07.6] } 116. Qc6 { [%clk 0:01:45.7] } 116... Qe5+ { [%clk 0:09:00] } 1/2-1/2\n",
      "Error al analizar los juegos: 'ChildNode' object has no attribute 'best_move'\n",
      "No se pudo analizar los juegos.\n"
     ]
    },
    {
     "name": "stderr",
     "output_type": "stream",
     "text": [
      "\n"
     ]
    }
   ],
   "source": [
    "# Habilitar autoreload\n",
    "%load_ext autoreload\n",
    "%autoreload 2\n",
    "\n",
    "from analyze_games import GamesAnalyzer\n",
    "import os\n",
    "import pandas as pd\n",
    "\n",
    "\n",
    "def analyze_and_save_games(games_path=\"../data/games/game.pgn\"):\n",
    "    # Check if the file exists\n",
    "    print(\"Ruta del archivo:\", games_path)\n",
    "    if not os.path.exists(games_path):\n",
    "        print(f\"El archivo {games_path} no existe.\")\n",
    "        return None\n",
    "    print(\"El archivo existe.\")\n",
    "    \n",
    "    analyzer = GamesAnalyzer()\n",
    "        \n",
    "    # Load games with try-except to catch errors\n",
    "    try:\n",
    "        games = analyzer.load_games(games_path)\n",
    "        print(\"Contenido de games:\", games)\n",
    "        print(\"Tipo de games:\", type(games))\n",
    "        print(\"Tipo del primer elemento:\", type(games[0]) if games else \"N/A\")\n",
    "    except Exception as e:\n",
    "        print(f\"Error al cargar los juegos: {e}\")\n",
    "        games = None\n",
    "\n",
    "    # Try to analyze the games\n",
    "    if games is not None:\n",
    "        try:\n",
    "            df, summary = analyzer.analyze_multiple_games(games, platform=\"chesscom\")\n",
    "            print(\"Summary:\", summary)\n",
    "            df.to_csv(\"games_summary.csv\", index=False)\n",
    "            return df,summary\n",
    "        except Exception as e:\n",
    "            print(f\"Error al analizar los juegos: {e}\")\n",
    "    else:\n",
    "        print(\"No se puede analizar porque games es None\")\n",
    "\n",
    "    analyzer.close()\n",
    "    \n",
    "\n",
    "games_path = \"../data/games/game.pgn\"\n",
    "result = analyze_and_save_games(games_path)\n",
    "if result is not None:\n",
    "    df, summary = result\n",
    "    df.head()\n",
    "else:\n",
    "    print(\"No se pudo analizar los juegos.\")\n"
   ]
  }
 ],
 "metadata": {
  "kernelspec": {
   "display_name": "Python 3",
   "language": "python",
   "name": "python3"
  },
  "language_info": {
   "codemirror_mode": {
    "name": "ipython",
    "version": 3
   },
   "file_extension": ".py",
   "mimetype": "text/x-python",
   "name": "python",
   "nbconvert_exporter": "python",
   "pygments_lexer": "ipython3",
   "version": "3.11.12"
  }
 },
 "nbformat": 4,
 "nbformat_minor": 5
}
