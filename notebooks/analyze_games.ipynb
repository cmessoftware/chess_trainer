{
 "cells": [
  {
   "cell_type": "code",
   "execution_count": null,
   "id": "a14d1f5c",
   "metadata": {
    "vscode": {
     "languageId": "plaintext"
    }
   },
   "outputs": [],
   "source": [
    "from visualizations import plot_blunders\n",
    "\n",
    "plot_path = f\"visualizations/plots/blunders_{player_name}.png\"\n",
    "plot_blunders(df, plot_path)\n",
    "st.image(plot_path)\n",
    "\n"
   ]
  }
 ],
 "metadata": {
  "language_info": {
   "name": "python"
  }
 },
 "nbformat": 4,
 "nbformat_minor": 5
}
