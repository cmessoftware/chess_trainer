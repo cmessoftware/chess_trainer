{
 "cells": [
  {
   "cell_type": "code",
   "execution_count": null,
   "id": "7def9387",
   "metadata": {},
   "outputs": [
    {
     "name": "stdout",
     "output_type": "stream",
     "text": [
      "<class 'list'>\n",
      "PovScore(Cp(+118), WHITE) PovScore(Cp(+105), WHITE) PovScore(Cp(+91), WHITE)\n"
     ]
    }
   ],
   "source": [
    "import os\n",
    "import chess\n",
    "import chess.engine\n",
    "import dotenv\n",
    "env = dotenv.load_dotenv()\n",
    "\n",
    "STOCKFISH_PATH = os.environ.get(\"STOCKFISH_PATH\",\"/usr/local/bin’\")\n",
    "\n",
    "with chess.engine.SimpleEngine.popen_uci(STOCKFISH_PATH) as engine:\n",
    "    board = chess.Board(\"rnbqkb1r/pppp2pp/5n2/4pP2/8/5N2/PPPP1PPP/RNBQKB1R w KQkq - 1 4\")\n",
    "    info = engine.analyse(board, chess.engine.Limit(depth=10), multipv=3)\n",
    "    print(type(info))  # → <class 'list'>\n",
    "    print(info[0][\"score\"], info[1][\"score\"], info[2][\"score\"])"
   ]
  }
 ],
 "metadata": {
  "kernelspec": {
   "display_name": "Python 3",
   "language": "python",
   "name": "python3"
  },
  "language_info": {
   "codemirror_mode": {
    "name": "ipython",
    "version": 3
   },
   "file_extension": ".py",
   "mimetype": "text/x-python",
   "name": "python",
   "nbconvert_exporter": "python",
   "pygments_lexer": "ipython3",
   "version": "3.11.12"
  }
 },
 "nbformat": 4,
 "nbformat_minor": 5
}
