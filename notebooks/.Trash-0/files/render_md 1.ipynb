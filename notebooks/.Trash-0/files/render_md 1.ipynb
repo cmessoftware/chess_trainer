version https://git-lfs.github.com/spec/v1
oid sha256:7e780bf15822b0c66628e704bdd1587bb54e676eca588ecc26d9202b7201df6d
size 919
