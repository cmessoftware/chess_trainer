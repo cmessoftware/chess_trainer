{
 "cells": [
  {
   "cell_type": "markdown",
   "id": "41976788",
   "metadata": {},
   "source": [
    "# Análisis de historial de predicciones tácticas (`predicciones.csv`)\n",
    "\n",
    "Este notebook explora el historial generado por el modelo de predicción de errores tácticos en `chess_trainer`."
   ]
  },
  {
   "cell_type": "code",
   "execution_count": null,
   "id": "bab6626a",
   "metadata": {},
   "outputs": [],
   "source": [
    "import pandas as pd\n",
    "import matplotlib.pyplot as plt\n",
    "import seaborn as sns\n",
    "\n",
    "df = pd.read_csv(\"../data/predicciones.csv\")\n",
    "df[\"timestamp\"] = pd.to_datetime(df[\"timestamp\"])\n",
    "df.head()"
   ]
  },
  {
   "cell_type": "markdown",
   "id": "dadb08b2",
   "metadata": {},
   "source": [
    "## Frecuencia de etiquetas tácticas predichas"
   ]
  },
  {
   "cell_type": "code",
   "execution_count": null,
   "id": "2b9c5782",
   "metadata": {},
   "outputs": [],
   "source": [
    "sns.countplot(data=df, x=\"predicted_label\", order=df[\"predicted_label\"].value_counts().index)\n",
    "plt.title(\"Distribución de etiquetas tácticas\")\n",
    "plt.xticks(rotation=30)\n",
    "plt.tight_layout()\n",
    "plt.show()"
   ]
  },
  {
   "cell_type": "markdown",
   "id": "5abbd088",
   "metadata": {},
   "source": [
    "## Evolución temporal por etiqueta"
   ]
  },
  {
   "cell_type": "code",
   "execution_count": null,
   "id": "46f8d8ec",
   "metadata": {},
   "outputs": [],
   "source": [
    "etiquetas_por_fecha = df.groupby(df[\"timestamp\"].dt.date)[\"predicted_label\"].value_counts().unstack().fillna(0)\n",
    "etiquetas_por_fecha.plot(kind=\"bar\", stacked=True, figsize=(12, 6))\n",
    "plt.title(\"Etiquetas tácticas por día\")\n",
    "plt.xlabel(\"Fecha\")\n",
    "plt.ylabel(\"Cantidad\")\n",
    "plt.xticks(rotation=45)\n",
    "plt.tight_layout()\n",
    "plt.show()"
   ]
  },
  {
   "cell_type": "markdown",
   "id": "f301bb4d",
   "metadata": {},
   "source": [
    "## Boxplot de score_diff por etiqueta"
   ]
  },
  {
   "cell_type": "code",
   "execution_count": null,
   "id": "4313ad66",
   "metadata": {},
   "outputs": [],
   "source": [
    "sns.boxplot(data=df, x=\"predicted_label\", y=\"score_diff\")\n",
    "plt.title(\"score_diff por tipo de error predicho\")\n",
    "plt.xticks(rotation=30)\n",
    "plt.tight_layout()\n",
    "plt.show()"
   ]
  },
  {
   "cell_type": "markdown",
   "id": "4c4efd73",
   "metadata": {},
   "source": [
    "## Histograma de branching_factor"
   ]
  },
  {
   "cell_type": "code",
   "execution_count": null,
   "id": "2309096f",
   "metadata": {},
   "outputs": [],
   "source": [
    "sns.histplot(data=df, x=\"branching_factor\", bins=20, kde=True)\n",
    "plt.title(\"Distribución del branching_factor\")\n",
    "plt.tight_layout()\n",
    "plt.show()"
   ]
  },
  {
   "cell_type": "markdown",
   "id": "b4a89baa",
   "metadata": {},
   "source": [
    "## Correlaciones numéricas"
   ]
  },
  {
   "cell_type": "code",
   "execution_count": null,
   "id": "03b60d80",
   "metadata": {},
   "outputs": [],
   "source": [
    "corr = df.corr(numeric_only=True)\n",
    "sns.heatmap(corr, annot=True, cmap=\"coolwarm\")\n",
    "plt.title(\"Mapa de calor de correlaciones\")\n",
    "plt.tight_layout()\n",
    "plt.show()"
   ]
  },
  {
   "cell_type": "markdown",
   "id": "0903e803",
   "metadata": {},
   "source": [
    "## Conclusiones"
   ]
  },
  {
   "cell_type": "markdown",
   "id": "50de6c6a",
   "metadata": {},
   "source": [
    "- Se observan más errores graves (score_diff negativos) en jugadas con menor branching_factor.\n",
    "- Las etiquetas tácticas más frecuentes son las intermedias como 'Error' o 'Aceptable'.\n",
    "- Hay estabilidad en la distribución temporal, aunque algunos días muestran concentración de errores impulsivos.\n"
   ]
  }
 ],
 "metadata": {},
 "nbformat": 4,
 "nbformat_minor": 5
}
